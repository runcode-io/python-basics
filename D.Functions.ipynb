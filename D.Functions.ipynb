{
 "cells": [
  {
   "cell_type": "markdown",
   "id": "308e0c07-436f-4138-abe5-cb733c927e04",
   "metadata": {},
   "source": [
    "# 1. Functions"
   ]
  },
  {
   "cell_type": "markdown",
   "id": "3de72eb1-5a6d-4637-9276-645100b36086",
   "metadata": {},
   "source": [
    "In Python, a function is a block of code that performs a specific task and can be called from other parts of your program. Functions help you organize and reuse your code, and can make your programs more readable and maintainable.\n",
    "\n",
    "Things to know in function are below\n",
    "\n",
    "1. Creating Function:\n",
    "In Python a function is defined using 'def' keyword."
   ]
  },
  {
   "cell_type": "code",
   "execution_count": 1,
   "id": "9f7a8bf5-3982-4c1b-b66f-2179a1c4ae0a",
   "metadata": {},
   "outputs": [],
   "source": [
    "def my_function(): #Function declaration\n",
    "  print(\"Hello function\") #Function definition\n"
   ]
  },
  {
   "cell_type": "markdown",
   "id": "e1540583-078e-4f64-92d6-5b28b128b887",
   "metadata": {},
   "source": [
    "2. Calling a Function:\n",
    "To call a function, we use the function name followed by parenthesis as below."
   ]
  },
  {
   "cell_type": "code",
   "execution_count": 2,
   "id": "69b90d1f-d35a-4215-b4cc-b9b3ea34b78e",
   "metadata": {},
   "outputs": [
    {
     "name": "stdout",
     "output_type": "stream",
     "text": [
      "Hello function\n"
     ]
    }
   ],
   "source": [
    "def my_function():\n",
    "  print(\"Hello function\")\n",
    "\n",
    "my_function()  #function calling"
   ]
  },
  {
   "cell_type": "markdown",
   "id": "47c985f2-aa8e-43a7-9bd8-bad85bc188b9",
   "metadata": {},
   "source": [
    "3. Arguments:\n",
    "Information can be passed into function using arguments.\n",
    "Arguments are specified after the function name , inside parentheses\n",
    "\n",
    "You can find below function with Arguments."
   ]
  },
  {
   "cell_type": "code",
   "execution_count": 3,
   "id": "ceb7fcc7-e454-4219-9045-d99e0c8385d1",
   "metadata": {},
   "outputs": [
    {
     "name": "stdout",
     "output_type": "stream",
     "text": [
      "Hello, Alice!\n",
      "Hello, Bob!\n"
     ]
    }
   ],
   "source": [
    "def greet(name):\n",
    "    print(f'Hello, {name}!')\n",
    "\n",
    "greet('Alice')\n",
    "greet('Bob')"
   ]
  },
  {
   "cell_type": "markdown",
   "id": "f52843f4-d1ea-40d8-87c9-2c6c538af6fe",
   "metadata": {},
   "source": [
    "This function, called 'greet', takes one argument (name) and prints a greeting using that argument. The function is defined using the 'def' keyword, followed by the function name and a list of parameters inside parentheses. The code inside the function is indented and should be written as a block.\n",
    "\n",
    "To call a function, you simply need to use its name followed by a set of parentheses, and any required arguments inside the parentheses. In the example above, the greet function is called with the arguments 'Alice' and 'Bob'.\n",
    "\n",
    "Functions can also return a value using the return statement. For example:"
   ]
  },
  {
   "cell_type": "code",
   "execution_count": 4,
   "id": "2cc589f5-102e-406b-8d4e-1caa248f6398",
   "metadata": {},
   "outputs": [
    {
     "name": "stdout",
     "output_type": "stream",
     "text": [
      "7\n"
     ]
    }
   ],
   "source": [
    "def add(x, y):\n",
    "    return x + y\n",
    "\n",
    "result = add(3, 4)\n",
    "print(result)  # prints 7"
   ]
  },
  {
   "cell_type": "markdown",
   "id": "da435182-6de5-4f07-98e8-ca48c7489be4",
   "metadata": {},
   "source": [
    "You can also define functions with a variable number of arguments using the **`*`** operator. For example:"
   ]
  },
  {
   "cell_type": "code",
   "execution_count": 5,
   "id": "2e593862-f455-48c6-8b82-4aad8312e0e1",
   "metadata": {},
   "outputs": [],
   "source": [
    "def sum_all(*args):\n",
    "    \"\"\"\n",
    "    Sum all the arguments.\n",
    "    \"\"\"\n",
    "    result = 0\n",
    "    for x in args:\n",
    "        result += x\n",
    "    return result\n"
   ]
  },
  {
   "cell_type": "markdown",
   "id": "0085c627-18f2-4010-8aca-079cb6a13075",
   "metadata": {},
   "source": [
    "In this example, the **`sum_all()`** function takes a variable number of arguments and returns the sum of all of them."
   ]
  },
  {
   "cell_type": "code",
   "execution_count": 6,
   "id": "2b74aa76-f91a-4b09-be2d-9355db020310",
   "metadata": {},
   "outputs": [
    {
     "name": "stdout",
     "output_type": "stream",
     "text": [
      "6\n",
      "15\n"
     ]
    }
   ],
   "source": [
    "print(sum_all(1, 2, 3))  # 6\n",
    "print(sum_all(1, 2, 3, 4, 5))  # 15\n"
   ]
  }
 ],
 "metadata": {
  "kernelspec": {
   "display_name": "Python 3 (ipykernel)",
   "language": "python",
   "name": "python3"
  },
  "language_info": {
   "codemirror_mode": {
    "name": "ipython",
    "version": 3
   },
   "file_extension": ".py",
   "mimetype": "text/x-python",
   "name": "python",
   "nbconvert_exporter": "python",
   "pygments_lexer": "ipython3",
   "version": "3.8.10"
  }
 },
 "nbformat": 4,
 "nbformat_minor": 5
}
