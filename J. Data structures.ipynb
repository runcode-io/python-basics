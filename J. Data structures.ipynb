{
 "cells": [
  {
   "cell_type": "markdown",
   "id": "82150c3b-e8ef-4c8f-9ad9-87570a2b3682",
   "metadata": {},
   "source": [
    "# 10. Data Structure"
   ]
  },
  {
   "cell_type": "markdown",
   "id": "55e8c2f4-690b-467c-a79d-b1c0b7487329",
   "metadata": {},
   "source": [
    "Data Structures helps developers to write efficient code. Basically data structure is a specilized format for organizing and storing the data.\n",
    "\n",
    "* The data structures are divided into two type:\n",
    "    1. Linear data structures (Array, Linked list, Stack and Queue).<br>\n",
    "    2. Non-linear data structure (Tree, Heap, Graph).\n",
    "<br><br>\n",
    "* Built-in Data stuctures in python are:\n",
    "    1. List <br>\n",
    "    2. Tuple <br>\n",
    "    3. Set <br>\n",
    "    4. Dictionary"
   ]
  },
  {
   "cell_type": "markdown",
   "id": "91fb82f0-74fe-40c2-9219-d306ca34883b",
   "metadata": {},
   "source": [
    "1. **List:** A list is an ordered collection of items. You can create a list by enclosing a comma-separated sequence of items in square brackets. For example:"
   ]
  },
  {
   "cell_type": "code",
   "execution_count": null,
   "id": "69864c4e-9f0c-497a-8bf6-60d987bf66ae",
   "metadata": {},
   "outputs": [],
   "source": [
    "x = [1, 2, 3] # list\n",
    "y = [\"a\", \"b\", \"c\"] # list\n",
    "\n",
    "# Nested List\n",
    "x = [\n",
    "    [1,2,3,4],\n",
    "    [5,6,7,8],\n",
    "    [9,10,11],\n",
    "]"
   ]
  },
  {
   "cell_type": "code",
   "execution_count": 8,
   "id": "d0405dc7-779a-4edb-9f41-3c71be76ffa7",
   "metadata": {},
   "outputs": [
    {
     "name": "stdout",
     "output_type": "stream",
     "text": [
      "[1, 2, 3]\n",
      "[1, 2, 3, 5]\n",
      "[1, 2, 3]\n"
     ]
    }
   ],
   "source": [
    "# Use list as stack (appned(push), pop)\n",
    "\n",
    "stack = [1,2,3]\n",
    "print(stack) # [1,2,3]\n",
    "\n",
    "# append\n",
    "stack.append(5)\n",
    "print(stack) # [1,2,3,5]\n",
    "\n",
    "# pop\n",
    "stack.pop(3)\n",
    "print(stack) # [1,2,5]"
   ]
  },
  {
   "cell_type": "markdown",
   "id": "c1a68f47-5ed0-45dd-ad87-82fb7488c7b6",
   "metadata": {},
   "source": [
    "4. **Tuple:** A tuple is similar to a list, but it is immutable, meaning that you cannot modify its contents once it has been created. You can create a tuple by enclosing a comma-separated sequence of items in parentheses. For example:"
   ]
  },
  {
   "cell_type": "code",
   "execution_count": 14,
   "id": "5f86bf4d-435f-422a-9aa1-6e29419d49db",
   "metadata": {},
   "outputs": [
    {
     "ename": "TypeError",
     "evalue": "'tuple' object does not support item assignment",
     "output_type": "error",
     "traceback": [
      "\u001b[0;31m---------------------------------------------------------------------------\u001b[0m",
      "\u001b[0;31mTypeError\u001b[0m                                 Traceback (most recent call last)",
      "Cell \u001b[0;32mIn[14], line 5\u001b[0m\n\u001b[1;32m      2\u001b[0m y \u001b[38;5;241m=\u001b[39m (\u001b[38;5;124m\"\u001b[39m\u001b[38;5;124ma\u001b[39m\u001b[38;5;124m\"\u001b[39m, \u001b[38;5;124m\"\u001b[39m\u001b[38;5;124mb\u001b[39m\u001b[38;5;124m\"\u001b[39m, \u001b[38;5;124m\"\u001b[39m\u001b[38;5;124mc\u001b[39m\u001b[38;5;124m\"\u001b[39m) \u001b[38;5;66;03m# tuple\u001b[39;00m\n\u001b[1;32m      4\u001b[0m \u001b[38;5;66;03m# Tuples are immutable\u001b[39;00m\n\u001b[0;32m----> 5\u001b[0m \u001b[43mx\u001b[49m\u001b[43m[\u001b[49m\u001b[38;5;241;43m0\u001b[39;49m\u001b[43m]\u001b[49m \u001b[38;5;241m=\u001b[39m \u001b[38;5;241m0\u001b[39m \n",
      "\u001b[0;31mTypeError\u001b[0m: 'tuple' object does not support item assignment"
     ]
    }
   ],
   "source": [
    "x = (1, 2, 3) # tuple\n",
    "y = (\"a\", \"b\", \"c\") # tuple\n",
    "\n",
    "# Tuples are immutable\n",
    "x[0] = 0 "
   ]
  },
  {
   "cell_type": "markdown",
   "id": "c2a71e81-23f8-4ce7-a6e0-d1264898e0bd",
   "metadata": {},
   "source": [
    "6. **Set:** A set is an unordered collection of unique items. You can create a set by enclosing a comma-separated sequence of items in curly braces. For example:"
   ]
  },
  {
   "cell_type": "code",
   "execution_count": 13,
   "id": "a58cc306-5b16-4a18-a85d-775d18208b62",
   "metadata": {},
   "outputs": [],
   "source": [
    "x = {1, 2, 3} # set\n",
    "y = {'a', 'b', 'c'} # set"
   ]
  },
  {
   "cell_type": "markdown",
   "id": "52ba44d4-da8d-44b6-8848-e4725ff463ff",
   "metadata": {},
   "source": [
    "5. **Dictionaries:** A dictionary is an unordered collection of key-value pairs. You can create a dictionary by enclosing a comma-separated sequence of key-value pairs in curly braces. For example:"
   ]
  },
  {
   "cell_type": "code",
   "execution_count": null,
   "id": "1ad2fbd6-c407-4b42-b640-8bd94ecc078f",
   "metadata": {},
   "outputs": [],
   "source": [
    "x = {'a': 1, 'b': 2, 'c': 3} # dictionary\n",
    "y = {1: 'a', 2: 'b', 3: 'c'} # dictionary"
   ]
  }
 ],
 "metadata": {
  "kernelspec": {
   "display_name": "Python 3 (ipykernel)",
   "language": "python",
   "name": "python3"
  },
  "language_info": {
   "codemirror_mode": {
    "name": "ipython",
    "version": 3
   },
   "file_extension": ".py",
   "mimetype": "text/x-python",
   "name": "python",
   "nbconvert_exporter": "python",
   "pygments_lexer": "ipython3",
   "version": "3.8.10"
  }
 },
 "nbformat": 4,
 "nbformat_minor": 5
}
