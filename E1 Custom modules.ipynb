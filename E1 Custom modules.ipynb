{
 "cells": [
  {
   "cell_type": "markdown",
   "id": "e63482e3-3357-4686-944e-33a3bd3a4aee",
   "metadata": {},
   "source": [
    "# Custom modules\n",
    "\n",
    "In Python, you can create your own custom modules by writing your own Python code and saving it in a file with a `.py` extension. You can then import your custom module into other Python programs using the import statement.\n",
    "\n",
    "For example, suppose you have a file called `my_module.py` that contains the following code:"
   ]
  },
  {
   "cell_type": "code",
   "execution_count": null,
   "id": "73fbb720-9cac-4b23-8858-54afb3642e4c",
   "metadata": {},
   "outputs": [],
   "source": [
    "def greeting(name):\n",
    "    return f\"Hello, {name}!\"\n",
    "\n",
    "def add(x, y):\n",
    "    return x + y"
   ]
  },
  {
   "cell_type": "markdown",
   "id": "2c70a46e-47ee-4a9b-a7fa-f5a5cff13db3",
   "metadata": {},
   "source": [
    "You can import this module into another Python program like this:"
   ]
  },
  {
   "cell_type": "code",
   "execution_count": null,
   "id": "d93d5a14-ec88-4194-8603-7d21ab26e1f7",
   "metadata": {},
   "outputs": [],
   "source": [
    "import my_module\n",
    "\n",
    "print(my_module.greeting(\"Anil\"))  # \"Hello, Anil!\"\n",
    "print(my_module.add(2, 3))  # 5"
   ]
  },
  {
   "cell_type": "markdown",
   "id": "1a668807-7b79-4e7a-9cc7-e9a9a77a4990",
   "metadata": {},
   "source": [
    "You can also use the `from` keyword to import specific functions or variables from your custom module, like this:"
   ]
  },
  {
   "cell_type": "code",
   "execution_count": null,
   "id": "d889e8ae-33b5-4f31-94bb-f647d502adda",
   "metadata": {},
   "outputs": [],
   "source": [
    "from my_module import greeting, add\n",
    "\n",
    "print(greeting(\"Sujith\"))  # \"Hello, Sujith!\"\n",
    "print(add(4, 5))  # 9\n"
   ]
  },
  {
   "cell_type": "markdown",
   "id": "05e93986-f132-4328-8442-bfda8e789d87",
   "metadata": {},
   "source": [
    "You can also use the `as` keyword to give your custom module a different name when you import it, like this:"
   ]
  },
  {
   "cell_type": "code",
   "execution_count": null,
   "id": "7735246f-3952-46fe-970d-387e6c0dea67",
   "metadata": {},
   "outputs": [],
   "source": [
    "import my_module as mm\n",
    "\n",
    "print(mm.greeting(\"Charlie\"))  # \"Hello, Charlie!\"\n",
    "print(mm.add(6, 7))  # 13"
   ]
  },
  {
   "cell_type": "markdown",
   "id": "42c9261e-0e25-4169-bd8c-43c23404bc66",
   "metadata": {},
   "source": [
    "Custom modules can be very useful for organizing and sharing your code, and for reusing code across multiple programs."
   ]
  }
 ],
 "metadata": {
  "kernelspec": {
   "display_name": "Python 3 (ipykernel)",
   "language": "python",
   "name": "python3"
  },
  "language_info": {
   "codemirror_mode": {
    "name": "ipython",
    "version": 3
   },
   "file_extension": ".py",
   "mimetype": "text/x-python",
   "name": "python",
   "nbconvert_exporter": "python",
   "pygments_lexer": "ipython3",
   "version": "3.8.10"
  }
 },
 "nbformat": 4,
 "nbformat_minor": 5
}
