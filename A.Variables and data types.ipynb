{
 "cells": [
  {
   "cell_type": "markdown",
   "id": "0ef3916b-026d-4261-a7d0-9cab1ccf286d",
   "metadata": {},
   "source": [
    "# 1. Variables and Datatypes"
   ]
  },
  {
   "cell_type": "markdown",
   "id": "f6946128-7846-48da-bef7-0d91766a97fe",
   "metadata": {},
   "source": [
    "In Python, a variable is a name that refers to a value. You can use variables to store all kinds of data, such as numbers, strings, and complex data structures.\n",
    "\n",
    "To create a variable in Python, you just need to specify the name of the variable and the value that you want to store. For example:"
   ]
  },
  {
   "cell_type": "code",
   "execution_count": 16,
   "id": "22d304bd-8d69-4685-8313-a60455ffc8c5",
   "metadata": {},
   "outputs": [],
   "source": [
    "x = 10\n",
    "y = \"hello\"\n",
    "z = [1, 2, 3]"
   ]
  },
  {
   "cell_type": "markdown",
   "id": "23a4c82c-d602-401b-92af-2b5822e1df15",
   "metadata": {},
   "source": [
    "In this example, **`x`** is a variable that stores an integer value, **`y`** is a variable that stores a string, and **`z`** is a variable that stores a list.\n",
    "\n",
    "In Python, there are several built-in data types that you can use to store data:\n",
    "\n",
    "1. **Numbers:** Python supports integers, floating-point numbers, and complex numbers. For example:"
   ]
  },
  {
   "cell_type": "code",
   "execution_count": 17,
   "id": "074665b2-c246-4288-a5e6-a24d8807e4c8",
   "metadata": {},
   "outputs": [],
   "source": [
    "x = 10        # integer\n",
    "y = 3.14      # floating-point\n",
    "z = 1+2j      # complex"
   ]
  },
  {
   "cell_type": "markdown",
   "id": "71daadc6-1660-4d20-8c5c-d167b373cfab",
   "metadata": {},
   "source": [
    "2. **Strings:** A string is a sequence of characters. You can create a string by enclosing a sequence of characters in single or double quotes. For example:"
   ]
  },
  {
   "cell_type": "code",
   "execution_count": 35,
   "id": "af37d0fb-9925-4dfd-8c9e-2304b6a14fbe",
   "metadata": {},
   "outputs": [],
   "source": [
    "x = \"hello\"   # string\n",
    "y = 'world'   # string"
   ]
  },
  {
   "cell_type": "markdown",
   "id": "2a7e8ffe-d8cd-4ed4-bfd1-04ddffbb2906",
   "metadata": {},
   "source": [
    "3. **List:** A list is an ordered collection of items. You can create a list by enclosing a comma-separated sequence of items in square brackets. For example:"
   ]
  },
  {
   "cell_type": "code",
   "execution_count": 36,
   "id": "a6ca92f3-fda5-4545-8591-fa65e4efbdee",
   "metadata": {},
   "outputs": [],
   "source": [
    "x = [1, 2, 3] # list\n",
    "y = [\"a\", \"b\", \"c\"] # list"
   ]
  },
  {
   "cell_type": "markdown",
   "id": "59c7273b-e727-48a9-bf01-2c6b8d98bf21",
   "metadata": {},
   "source": [
    "4. **Booleans:** As mentioned in the previous response, the boolean data type is used to represent the truth values **`True`** and **`False`**. You can use boolean values in logical and comparison operations, as well as in control structures such as if statements."
   ]
  },
  {
   "cell_type": "code",
   "execution_count": 23,
   "id": "4131f6c0-a37a-4a40-989c-2ae44cf7e34c",
   "metadata": {},
   "outputs": [
    {
     "name": "stdout",
     "output_type": "stream",
     "text": [
      "False\n",
      "True\n",
      "False\n",
      "True\n"
     ]
    }
   ],
   "source": [
    "x = True\n",
    "y = False\n",
    "\n",
    "print(x and y)  # False\n",
    "print(x or y)   # True\n",
    "print(not x)    # False\n",
    "print(not y)    # True"
   ]
  },
  {
   "cell_type": "markdown",
   "id": "82476ddd-99bd-43a9-95dd-42253323e400",
   "metadata": {},
   "source": [
    "5. **Bytes:** The bytes data type is used to represent a sequence of **`bytes`**. You can create a bytes object by prefixing a string with the **`b`** character and enclosing it in quotes. For example:"
   ]
  },
  {
   "cell_type": "code",
   "execution_count": 31,
   "id": "f34f0c67-5466-48a2-8f53-ac7d3bc6b37c",
   "metadata": {},
   "outputs": [],
   "source": [
    "x = b\"hello\""
   ]
  },
  {
   "cell_type": "markdown",
   "id": "3524c896-c7c5-4e81-a82a-182338311f37",
   "metadata": {},
   "source": [
    "You can also create a bytes object from a list of integers using the bytes() function. For example:"
   ]
  },
  {
   "cell_type": "code",
   "execution_count": 32,
   "id": "1d935dd9-8e97-4a68-9087-1625ef138a23",
   "metadata": {},
   "outputs": [],
   "source": [
    "x = bytes([104, 101, 108, 108, 111])"
   ]
  },
  {
   "cell_type": "markdown",
   "id": "75cff9c8-6f91-4f7f-8337-7d1a5b132170",
   "metadata": {},
   "source": [
    "let's plot some data using matplotlib"
   ]
  },
  {
   "cell_type": "code",
   "execution_count": 30,
   "id": "0a3e9461-a140-400e-960a-e0eeabf3e582",
   "metadata": {},
   "outputs": [
    {
     "data": {
      "image/png": "[encoded data removed]",
      "text/plain": [
       "<Figure size 640x480 with 1 Axes>"
      ]
     },
     "metadata": {},
     "output_type": "display_data"
    }
   ],
   "source": [
    "import matplotlib.pyplot as plt\n",
    "\n",
    "x = [1,2,3,4,5,10,11,12,30,31,89] # array of numbers\n",
    "\n",
    "plt.plot(x)\n",
    "plt.xlabel('Time')\n",
    "plt.ylabel('Price')\n",
    "plt.show()"
   ]
  }
 ],
 "metadata": {
  "kernelspec": {
   "display_name": "Python 3 (ipykernel)",
   "language": "python",
   "name": "python3"
  },
  "language_info": {
   "codemirror_mode": {
    "name": "ipython",
    "version": 3
   },
   "file_extension": ".py",
   "mimetype": "text/x-python",
   "name": "python",
   "nbconvert_exporter": "python",
   "pygments_lexer": "ipython3",
   "version": "3.8.10"
  }
 },
 "nbformat": 4,
 "nbformat_minor": 5
}
