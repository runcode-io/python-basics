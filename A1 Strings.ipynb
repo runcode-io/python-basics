{
 "cells": [
  {
   "cell_type": "markdown",
   "id": "fb21916d-7dbc-4e7f-a385-2f54de492a34",
   "metadata": {},
   "source": [
    "# String"
   ]
  },
  {
   "cell_type": "markdown",
   "id": "e9c40775-229e-4310-b5fa-46273ca293d7",
   "metadata": {},
   "source": [
    "String is a sequence of one or more Unicode characters. In python, string can be created by enclosing one or more characters inside **single (' ')**, **double (\" \")** and **triple (''' ''')** quote."
   ]
  },
  {
   "cell_type": "code",
   "execution_count": null,
   "id": "8e9aec88-884e-46c4-b1b4-e8b8592c9ae0",
   "metadata": {},
   "outputs": [
    {
     "name": "stdout",
     "output_type": "stream",
     "text": [
      "<class 'str'> Hi! I am a string.\n",
      "<class 'str'> Hi! I am a 'string'.\n",
      "<class 'str'> Hi! I'm a \"string\".\n"
     ]
    }
   ],
   "source": [
    "string = 'Hi! I am a string.'\n",
    "print(type(string), string) # <class 'str'>\n",
    "\n",
    "string = \"Hi! I am a 'string'.\"\n",
    "print(type(string), string) # <class 'str'>\n",
    "\n",
    "string = '''Hi! I'm a \"string\".'''\n",
    "print(type(string), string) # <class 'str'>"
   ]
  },
  {
   "cell_type": "markdown",
   "id": "5335073a-42ee-45ea-aad4-8acac253dc1e",
   "metadata": {},
   "source": [
    "#### Length of the string\n",
    "To get the length of a string python has in-built function: **len()**"
   ]
  },
  {
   "cell_type": "code",
   "execution_count": null,
   "id": "d92aab91-2697-4d9c-8e99-e9f4ee59278a",
   "metadata": {},
   "outputs": [
    {
     "name": "stdout",
     "output_type": "stream",
     "text": [
      "18\n"
     ]
    }
   ],
   "source": [
    "# Get the length of string\n",
    "string = 'Hi! I am a string.'\n",
    "print(len(string)) # 18"
   ]
  },
  {
   "cell_type": "markdown",
   "id": "dddcf28b-80b4-488f-af62-f78a47bcfee5",
   "metadata": {},
   "source": [
    "#### String is **'Immutable'**\n",
    "Python's string is immutable that means the content of the string can not be changed.\n"
   ]
  },
  {
   "cell_type": "code",
   "execution_count": null,
   "id": "6cf0ffe5-56c8-49b9-88a2-c12d0622225d",
   "metadata": {},
   "outputs": [
    {
     "name": "stdout",
     "output_type": "stream",
     "text": [
      "Hi\n"
     ]
    },
    {
     "ename": "TypeError",
     "evalue": "'str' object does not support item assignment",
     "output_type": "error",
     "traceback": [
      "\u001b[0;31m---------------------------------------------------------------------------\u001b[0m",
      "\u001b[0;31mTypeError\u001b[0m                                 Traceback (most recent call last)",
      "Cell \u001b[0;32mIn[17], line 6\u001b[0m\n\u001b[1;32m      3\u001b[0m \u001b[38;5;28mprint\u001b[39m(string[\u001b[38;5;241m0\u001b[39m:\u001b[38;5;241m2\u001b[39m]) \u001b[38;5;66;03m# Hi\u001b[39;00m\n\u001b[1;32m      5\u001b[0m \u001b[38;5;66;03m# now try to update content\u001b[39;00m\n\u001b[0;32m----> 6\u001b[0m \u001b[43mstring\u001b[49m\u001b[43m[\u001b[49m\u001b[38;5;241;43m0\u001b[39;49m\u001b[43m:\u001b[49m\u001b[38;5;241;43m2\u001b[39;49m\u001b[43m]\u001b[49m \u001b[38;5;241m=\u001b[39m \u001b[38;5;124m'\u001b[39m\u001b[38;5;124mHello\u001b[39m\u001b[38;5;124m'\u001b[39m \u001b[38;5;66;03m# TypeError: 'str' object does not support item assignment\u001b[39;00m\n",
      "\u001b[0;31mTypeError\u001b[0m: 'str' object does not support item assignment"
     ]
    }
   ],
   "source": [
    "# String example \n",
    "string = 'Hi! string'\n",
    "print(string[0:2]) # Hi\n",
    "\n",
    "# now try to update content\n",
    "string[0:2] = 'Hello' # TypeError: 'str' object does not support item assignment"
   ]
  },
  {
   "cell_type": "markdown",
   "id": "3241fb47-ca76-4a7c-855e-b50f750e7b51",
   "metadata": {
    "tags": []
   },
   "source": [
    "#### String Operations\n",
    "1. **String concatenation:** '+' is used to join or concatenate two strings. For example:"
   ]
  },
  {
   "cell_type": "code",
   "execution_count": null,
   "id": "68e6427e-f9e6-4986-9fab-5c4637c9377f",
   "metadata": {},
   "outputs": [
    {
     "name": "stdout",
     "output_type": "stream",
     "text": [
      "Hi! String.\n"
     ]
    }
   ],
   "source": [
    "# String Concatenation\n",
    "string1 = 'Hi!'\n",
    "string2 = ' String.'\n",
    "string = string1 + string2\n",
    "print(string) # Hi! String."
   ]
  },
  {
   "cell_type": "markdown",
   "id": "d8cd8d9d-eb44-4302-a0e0-062e244c445e",
   "metadata": {},
   "source": [
    "2. **String slicing** : string[x:y] => string[inclusive : exclusive] means it returns content from string[x] to string[y-1]."
   ]
  },
  {
   "cell_type": "code",
   "execution_count": null,
   "id": "f25fa1ce-2154-4b0b-aab6-d35e7a6e241b",
   "metadata": {},
   "outputs": [
    {
     "name": "stdout",
     "output_type": "stream",
     "text": [
      "Hi! I am a string.\n",
      "Hi!\n",
      " I am a string.\n",
      "! I\n",
      "ring\n"
     ]
    }
   ],
   "source": [
    "# String slicing\n",
    "string = 'Hi! I am a string.'\n",
    "\n",
    "# Full string: \n",
    "print(string) # Hi! I am a string.\n",
    "\n",
    "# Sliced string from start to 3 \n",
    "print(string[:3]) # Hi!\n",
    "\n",
    "# Sliced string from 3 to end\n",
    "print(string[3:]) #  I am a string.\n",
    "\n",
    "# Sliced string from 2 to 5\n",
    "print(string[2:5]) # ! I\n",
    "\n",
    "# Slice using negative index\n",
    "print(string[-5:-1]) # ring"
   ]
  },
  {
   "cell_type": "markdown",
   "id": "5e49913b-eac9-4457-96dc-61330ef0850d",
   "metadata": {},
   "source": [
    "* Get **reversed** string"
   ]
  },
  {
   "cell_type": "code",
   "execution_count": null,
   "id": "bc66e911-2d42-45b1-8178-f707792417fd",
   "metadata": {},
   "outputs": [
    {
     "name": "stdout",
     "output_type": "stream",
     "text": [
      ".gnirts a ma I !iH\n"
     ]
    }
   ],
   "source": [
    "# Reverse string\n",
    "string = 'Hi! I am a string.'\n",
    "print(string[::-1]) # .gnirts a ma I !iH"
   ]
  },
  {
   "cell_type": "markdown",
   "id": "71c773f2-c72f-4b1f-8981-72f114a63029",
   "metadata": {},
   "source": [
    "3. **String repetition** : Repetition operator **'*'** can be used to repet the string. For example: "
   ]
  },
  {
   "cell_type": "code",
   "execution_count": null,
   "id": "f08d6579-7929-4ae9-9974-60699a9410f2",
   "metadata": {},
   "outputs": [
    {
     "name": "stdout",
     "output_type": "stream",
     "text": [
      "Ha! (: Ha! (: Ha! (: Ha! (: Ha! (: \n"
     ]
    }
   ],
   "source": [
    "# String Repetition\n",
    "\n",
    "string = 'Ha! (: '\n",
    "print(string*5) # Ha! (: Ha! (: Ha! (: Ha! (: Ha! (:"
   ]
  },
  {
   "cell_type": "markdown",
   "id": "0f7ee188-779a-40ae-8fa9-56913641e3dd",
   "metadata": {},
   "source": [
    "4. Using **membership operators** for string"
   ]
  },
  {
   "cell_type": "code",
   "execution_count": null,
   "id": "ae05d0ee-1e80-4a68-a929-67076eb0ab3b",
   "metadata": {},
   "outputs": [
    {
     "name": "stdout",
     "output_type": "stream",
     "text": [
      "True\n",
      "True\n"
     ]
    }
   ],
   "source": [
    "# Membership operator\n",
    "string = 'Hi! I am a string.'\n",
    "\n",
    "# in\n",
    "print('am' in string) # True\n",
    "\n",
    "# not in\n",
    "print('is' not in string) # True"
   ]
  }
 ],
 "metadata": {
  "kernelspec": {
   "display_name": "Python 3 (ipykernel)",
   "language": "python",
   "name": "python3"
  },
  "language_info": {
   "codemirror_mode": {
    "name": "ipython",
    "version": 3
   },
   "file_extension": ".py",
   "mimetype": "text/x-python",
   "name": "python",
   "nbconvert_exporter": "python",
   "pygments_lexer": "ipython3",
   "version": "3.8.10"
  }
 },
 "nbformat": 4,
 "nbformat_minor": 5
}
