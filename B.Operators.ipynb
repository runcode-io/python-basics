{
 "cells": [
  {
   "cell_type": "markdown",
   "id": "3d7acc11-0eb2-4f24-8161-fd03294e11ec",
   "metadata": {},
   "source": [
    "# Operators\n",
    "In Python, operators are special symbols that represent computations like addition, multiplication, and comparison.\n",
    "\n",
    "Here is a list of some of the most commonly used operators in Python:\n",
    "\n",
    "1. **Arithmetic operators:** These operators perform arithmetic operations on numerical values (integers and floating-point numbers). The basic arithmetic operators are **`+`**, **`-`**, **`*`**, and **`/`**, which perform addition, subtraction, multiplication, and division, respectively. There are also several other arithmetic operators, such as **`%`** (modulus), which computes the remainder of a division, and **`**`** (exponent), which computes the power of a number. For example:"
   ]
  },
  {
   "cell_type": "code",
   "execution_count": null,
   "id": "8a0355af-665e-4b54-9a64-1d7130cca0ec",
   "metadata": {},
   "outputs": [],
   "source": [
    "x = 10\n",
    "y = 3\n",
    "\n",
    "print(x + y)   # 13\n",
    "print(x - y)   # 7\n",
    "print(x * y)   # 30\n",
    "print(x / y)   # 3.3333333333333335\n",
    "print(x % y)   # 1\n",
    "print(x ** y)  # 1000\n"
   ]
  },
  {
   "cell_type": "markdown",
   "id": "cacb1cdc-d66a-4736-9e05-9613eb064d39",
   "metadata": {},
   "source": [
    "2. **Comparison operators:** These operators compare two values and return a boolean value indicating whether the comparison is true or false. The comparison operators are **`==`**, **`!=`**, **`>`**, **`<`**, **`>=`**, and **`<=`**, which perform equal to, not equal to, greater than, less than, greater than or equal to, and less than or equal to, respectively. For example:"
   ]
  },
  {
   "cell_type": "code",
   "execution_count": null,
   "id": "c38746a7-75c0-4bbe-9fd0-7363c2efb337",
   "metadata": {},
   "outputs": [],
   "source": [
    "x = 10\n",
    "y = 3\n",
    "\n",
    "print(x == y)  # False\n",
    "print(x != y)  # True\n",
    "print(x > y)   # True\n",
    "print(x < y)   # False\n",
    "print(x >= y)  # True\n",
    "print(x <= y)  # False\n"
   ]
  },
  {
   "cell_type": "markdown",
   "id": "4c996661-9eeb-41a0-b343-98d6ef89cc31",
   "metadata": {},
   "source": [
    "3. **Assignment operators:** These operators assign a value to a variable. The basic assignment operator is **`=`**, which assigns a value to a variable. There are also several compound assignment operators, such as **`+=`**, **`-=`**, **`*=`**, and **`/=`**, which perform an operation and assign the result to a variable. For example:"
   ]
  },
  {
   "cell_type": "code",
   "execution_count": null,
   "id": "54e500c1-a2c0-41f9-8b41-a500638cf7c5",
   "metadata": {},
   "outputs": [
    {
     "name": "stdout",
     "output_type": "stream",
     "text": [
      "13\n"
     ]
    }
   ],
   "source": [
    "# +=\n",
    "x = 10\n",
    "y = 3\n",
    "\n",
    "x += y  # equivalent to x = x + y\n",
    "print(x)  # 13"
   ]
  },
  {
   "cell_type": "code",
   "execution_count": null,
   "id": "0978f896-369e-41fe-b864-ca4b7c9d03e2",
   "metadata": {},
   "outputs": [
    {
     "name": "stdout",
     "output_type": "stream",
     "text": [
      "7\n"
     ]
    }
   ],
   "source": [
    "# -=\n",
    "x = 10\n",
    "y = 3\n",
    "\n",
    "x -= y # equivalent to x = x - y\n",
    "print(x) # 7"
   ]
  },
  {
   "cell_type": "code",
   "execution_count": null,
   "id": "34ac3d79-cc9c-40ab-aada-570dc7999774",
   "metadata": {},
   "outputs": [
    {
     "name": "stdout",
     "output_type": "stream",
     "text": [
      "30\n"
     ]
    }
   ],
   "source": [
    "# *=\n",
    "x = 10\n",
    "y = 3\n",
    "\n",
    "x *= y  # equivalent to x = x * y\n",
    "print(x)  # 39"
   ]
  },
  {
   "cell_type": "code",
   "execution_count": null,
   "id": "94c0cf51-a2be-4bc6-aeda-f1c104928c55",
   "metadata": {},
   "outputs": [
    {
     "name": "stdout",
     "output_type": "stream",
     "text": [
      "1000\n"
     ]
    }
   ],
   "source": [
    "# **=\n",
    "x = 10\n",
    "y = 3\n",
    "\n",
    "x **= y # equivalent to x = x ** y\n",
    "print(x) # 1000"
   ]
  },
  {
   "cell_type": "code",
   "execution_count": null,
   "id": "dc66486c-dfa5-4db3-b2d9-ebf285463816",
   "metadata": {},
   "outputs": [
    {
     "name": "stdout",
     "output_type": "stream",
     "text": [
      "3.3333333333333335\n"
     ]
    }
   ],
   "source": [
    "# /=\n",
    "x = 10\n",
    "y = 3\n",
    "\n",
    "x /= y # equivalent to x = x / y\n",
    "print(x) # 3.3333333333333335"
   ]
  },
  {
   "cell_type": "code",
   "execution_count": null,
   "id": "9f6ed5dc-fc66-4728-8d6d-0545149ec65f",
   "metadata": {},
   "outputs": [
    {
     "name": "stdout",
     "output_type": "stream",
     "text": [
      "3\n"
     ]
    }
   ],
   "source": [
    "# //=\n",
    "x = 10\n",
    "y = 3\n",
    "\n",
    "x //= y # equivalent to x = x // y\n",
    "print(x) # 3"
   ]
  },
  {
   "cell_type": "code",
   "execution_count": null,
   "id": "aa2880a9-68b5-4619-a4ed-21ec79518f07",
   "metadata": {},
   "outputs": [
    {
     "name": "stdout",
     "output_type": "stream",
     "text": [
      "1\n"
     ]
    }
   ],
   "source": [
    "# %=\n",
    "x = 10\n",
    "y = 3\n",
    "\n",
    "x %= y # equivalent to x = x % y\n",
    "print(x) # 1"
   ]
  },
  {
   "cell_type": "markdown",
   "id": "59b51f86-2bc4-46c4-80a1-308b39f56e39",
   "metadata": {},
   "source": [
    "4. **Logical operators:** These operators perform logical operations on boolean values. The logical operators are **`and`**, **`or`**, and **`not`**, which perform the logical operations of and, or, and not, respectively. For example:"
   ]
  },
  {
   "cell_type": "code",
   "execution_count": null,
   "id": "a4d3bf0d-2723-4cee-a697-60394c2173d6",
   "metadata": {},
   "outputs": [],
   "source": [
    "x = True\n",
    "y = False\n",
    "\n",
    "print(x and y)  # False\n",
    "print(x or y)   # True\n",
    "print(not x)    # False\n",
    "print(not y)    # True\n"
   ]
  },
  {
   "cell_type": "markdown",
   "id": "f66014c8-f01f-43e2-815a-431007354dac",
   "metadata": {},
   "source": [
    "5. **Bitwise operators:** These operators are used to perform bit operations. All the decimal values will be converted into binary values and bitwise operation will work on these bits.These operators are **'&'**, **'|'**, **'^'**, **'~'**, **'>>'**, **'<<'**  For example:"
   ]
  },
  {
   "cell_type": "code",
   "execution_count": null,
   "id": "b90a5c35-7e7c-4847-907c-00ee395adb91",
   "metadata": {},
   "outputs": [
    {
     "name": "stdout",
     "output_type": "stream",
     "text": [
      "2\n",
      "11\n",
      "9\n",
      "-11\n",
      "-4\n",
      "10\n",
      "20\n",
      "10\n",
      "5\n"
     ]
    }
   ],
   "source": [
    "x = 10\n",
    "y= 3\n",
    "\n",
    "# bitwise AND\n",
    "print(x & y) # 2\n",
    "\n",
    "# bitwise OR\n",
    "print(x | y) # 11\n",
    "\n",
    "# bitwise exclusive OR\n",
    "print(x ^ y) # 9\n",
    "\n",
    "# bitwise complement\n",
    "print(~ x)\n",
    "print(~ y)\n",
    "\n",
    "# bitwise left shift\n",
    "print(x << 0) # 10\n",
    "print(x << 1) # 20 (10*2)\n",
    "\n",
    "# bitwise right shift\n",
    "print(x >> 0) # 10\n",
    "print(x >> 1) # 5 (10/2)"
   ]
  },
  {
   "cell_type": "markdown",
   "id": "a6cbeaa3-1cf5-4bc7-ab2d-2bbf1fb6ae9c",
   "metadata": {},
   "source": [
    "6. **Membership operators:** Membership operators returns **‘True’** if value is present in the given sequence otherwise **‘False’**. These operators are **in**, **not in**.  For example:"
   ]
  },
  {
   "cell_type": "code",
   "execution_count": null,
   "id": "2ae4228c-d3c3-44b6-b0ea-161fbddf6610",
   "metadata": {},
   "outputs": [
    {
     "name": "stdout",
     "output_type": "stream",
     "text": [
      "True\n",
      "False\n",
      "False\n",
      "True\n"
     ]
    }
   ],
   "source": [
    "x = [1,2,3]\n",
    "\n",
    "print(1 in x) # True\n",
    "print('1' in x) # False\n",
    "\n",
    "print(1 not in x) # False\n",
    "print(5 not in x) # True"
   ]
  },
  {
   "cell_type": "markdown",
   "id": "585a7dc4-f453-4232-a246-933b4c432b12",
   "metadata": {},
   "source": [
    "7. **Identity operators:** Identity operators are **'is'**, **'is not'**. These operators helps to determine the type of the variable and to check whether two variables are referring to the same object or not. For example:"
   ]
  },
  {
   "cell_type": "code",
   "execution_count": null,
   "id": "ab31a993-1502-44dd-a82e-0870cb0914dd",
   "metadata": {},
   "outputs": [
    {
     "name": "stdout",
     "output_type": "stream",
     "text": [
      "True\n",
      "False\n",
      "True\n",
      "False\n",
      "True\n",
      "False\n"
     ]
    }
   ],
   "source": [
    "msg = 'hello'\n",
    "print(type(msg) is str) # True\n",
    "print(type(msg) is int) # False\n",
    "\n",
    "x = 5\n",
    "print(type(x) is int) # True\n",
    "print(type(x) is str) # False\n",
    "\n",
    "y = x\n",
    "print(x is y) # True\n",
    "\n",
    "print(x is not y) # False"
   ]
  }
 ],
 "metadata": {
  "kernelspec": {
   "display_name": "Python 3 (ipykernel)",
   "language": "python",
   "name": "python3"
  },
  "language_info": {
   "codemirror_mode": {
    "name": "ipython",
    "version": 3
   },
   "file_extension": ".py",
   "mimetype": "text/x-python",
   "name": "python",
   "nbconvert_exporter": "python",
   "pygments_lexer": "ipython3",
   "version": "3.8.10"
  }
 },
 "nbformat": 4,
 "nbformat_minor": 5
}
