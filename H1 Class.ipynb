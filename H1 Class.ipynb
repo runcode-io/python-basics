{
 "cells": [
  {
   "cell_type": "markdown",
   "id": "a33a79bd-4acd-442d-86bc-31dcf410330a",
   "metadata": {},
   "source": [
    "# Class\n",
    "\n",
    "In Python, a class is used to define the structure of an object. A class definition usually contains:\n",
    "\n",
    "* A list of attributes (variables) that belong to the class\n",
    "* A list of methods (functions) that operate on those attributes\n",
    "For example, we might define a **`Person`** class like this:"
   ]
  },
  {
   "cell_type": "code",
   "execution_count": null,
   "id": "9bd9e237-7956-4016-bcd9-1e707af5fb52",
   "metadata": {},
   "outputs": [],
   "source": [
    "class Person:\n",
    "    def __init__(self, name, age):\n",
    "        self.name = name\n",
    "        self.age = age\n",
    "\n",
    "    def say_hello(self):\n",
    "        print(f\"Hello, my name is {self.name} and I am {self.age} years old.\")\n"
   ]
  },
  {
   "cell_type": "markdown",
   "id": "86ed4dda-622b-438b-9f00-74c84d53987f",
   "metadata": {},
   "source": [
    "Here, **`__init__`** is a special method called a constructor, which is used to create an instance of the class. **`self`** is a keyword that refers to the current instance of the object.\n",
    "\n",
    "To create an instance of the **`Person`** class, we would call it like this:"
   ]
  },
  {
   "cell_type": "code",
   "execution_count": null,
   "id": "98e2eb12-21f2-43da-8baa-d411f1064893",
   "metadata": {},
   "outputs": [],
   "source": [
    "p = Person(\"John\", 30)\n"
   ]
  },
  {
   "cell_type": "markdown",
   "id": "bc3acf5c-abe2-4638-80e7-8e5f7b4b4198",
   "metadata": {},
   "source": [
    "This creates a new **`Person`** object with the name \"John\" and the age 30. We can access the attributes of the object using dot notation:"
   ]
  },
  {
   "cell_type": "code",
   "execution_count": null,
   "id": "6e199601-47bd-48ae-ab1f-ffdb599ae842",
   "metadata": {},
   "outputs": [
    {
     "name": "stdout",
     "output_type": "stream",
     "text": [
      "John\n",
      "30\n"
     ]
    }
   ],
   "source": [
    "print(p.name)  # prints \"John\"\n",
    "print(p.age)   # prints 30\n"
   ]
  },
  {
   "cell_type": "markdown",
   "id": "9faf4436-8346-4b5f-8555-d5e5f6fbf921",
   "metadata": {},
   "source": [
    "We can also call the object's methods:"
   ]
  },
  {
   "cell_type": "code",
   "execution_count": null,
   "id": "2912b12b-f372-4639-9523-ff99fbd08dfa",
   "metadata": {},
   "outputs": [
    {
     "name": "stdout",
     "output_type": "stream",
     "text": [
      "Hello, my name is John and I am 30 years old.\n"
     ]
    }
   ],
   "source": [
    "p.say_hello()  # prints \"Hello, my name is John and I am 30 years old.\"\n"
   ]
  }
 ],
 "metadata": {
  "kernelspec": {
   "display_name": "Python 3 (ipykernel)",
   "language": "python",
   "name": "python3"
  },
  "language_info": {
   "codemirror_mode": {
    "name": "ipython",
    "version": 3
   },
   "file_extension": ".py",
   "mimetype": "text/x-python",
   "name": "python",
   "nbconvert_exporter": "python",
   "pygments_lexer": "ipython3",
   "version": "3.8.10"
  }
 },
 "nbformat": 4,
 "nbformat_minor": 5
}
