{
 "cells": [
  {
   "cell_type": "markdown",
   "id": "265ce6e2-42e5-47fa-a062-068b84334f97",
   "metadata": {},
   "source": [
    "# Concurrency and Parallelism\n",
    "\n",
    "Concurrency is the ability of a system to run multiple tasks concurrently, either by time-slicing or by using multiple processors. In Python, concurrency is typically achieved using the **`threading`** module or the **`concurrent.futures`** module.\n",
    "\n",
    "Parallelism, on the other hand, is the ability of a system to run multiple tasks simultaneously, using multiple processors. In Python, parallelism is typically achieved using the **`multiprocessing`** module or libraries built on top of it, such as **`concurrent.futures`**.\n",
    "\n",
    "Here is a simple example of how to use the **`concurrent.futures`** module to achieve concurrency in Python:"
   ]
  },
  {
   "cell_type": "code",
   "execution_count": null,
   "id": "48cb1889-76c9-4f75-83ba-639152e96462",
   "metadata": {},
   "outputs": [],
   "source": [
    "from concurrent.futures import ThreadPoolExecutor\n",
    "\n",
    "def task(n):\n",
    "    # Do some work\n",
    "    print(f\"Processing {n}\")\n",
    "\n",
    "with ThreadPoolExecutor() as executor:\n",
    "    for i in range(10):\n",
    "        executor.submit(task, i)\n"
   ]
  },
  {
   "cell_type": "markdown",
   "id": "78ba7d0f-039c-4a69-92b2-7baf42c88267",
   "metadata": {},
   "source": [
    "And here is an example of how to use the **`multiprocessing`** module to achieve parallelism in Python:"
   ]
  },
  {
   "cell_type": "code",
   "execution_count": null,
   "id": "723db826-9f92-43b2-b39f-3f2c9d15ac56",
   "metadata": {},
   "outputs": [],
   "source": [
    "import multiprocessing\n",
    "\n",
    "def task(n):\n",
    "    # Do some work\n",
    "    print(f\"Processing {n}\")\n",
    "\n",
    "with multiprocessing.Pool() as pool:\n",
    "    for i in range(10):\n",
    "        pool.apply_async(task, (i,))\n",
    "    pool.close()\n",
    "    pool.join()\n"
   ]
  },
  {
   "cell_type": "markdown",
   "id": "84b009d1-f7ea-4254-9fd3-d26c82af4d01",
   "metadata": {},
   "source": [
    "It's important to note that concurrency and parallelism are not the same thing, and they have different use cases. Concurrency is often used to make a program more responsive by allowing it to run tasks in the background, while parallelism is used to speed up a program by distributing work across multiple processors."
   ]
  },
  {
   "cell_type": "markdown",
   "id": "4132ed9e-942b-41a4-8712-eee3a1e3fefa",
   "metadata": {},
   "source": [
    "Points to consider when working with concurrency and parallelism in Python:\n",
    "\n",
    "* The **`threading`** module is built on top of the lower-level **`_thread`** module, which is built on top of the even lower-level **`thread`** module. The **`threading`** module is preferred because it is higher level and easier to use, but the **`_thread`** and **`thread`** modules can be used for more fine-grained control.\n",
    "\n",
    "* The **`concurrent.futures`** module is a higher-level interface for working with threads and processes. It provides a common interface for launching tasks using threads, processes, or other execution strategies.\n",
    "\n",
    "* The **`multiprocessing`** module is similar to the **`threading`** module, but it uses separate processes instead of threads. This means that it can take advantage of multiple processors, but it also means that tasks run in separate memory spaces and cannot share memory.\n",
    "\n",
    "* The **`GIL`** (Global Interpreter Lock) is a mutex that protects access to Python objects, preventing multiple threads from executing Python bytecodes at once. This lock is necessary because CPython, the reference implementation of Python, is not thread-safe. The GIL makes it easy to write simple, thread-safe Python programs, but it can also limit the performance of multithreaded programs.\n",
    "\n",
    "* The **`asyncio`** module, introduced in Python 3.5, provides a framework for writing asynchronous programs using coroutines and an event loop. Asynchronous programs are a form of concurrency that allow a program to perform multiple tasks concurrently without using multiple threads or processes.\n",
    "\n",
    "* It's important to choose the right concurrency or parallelism model for your application. Threads are good for concurrent execution of I/O-bound and high-level structured network code, but they are not suitable for concurrent execution of CPU-bound or poorly structured code. Processes are better suited for CPU-bound and parallel tasks, but they have a higher overhead due to the need to create new processes and the cost of inter-process communication. Asynchronous programs are good for high-level structured network code and for providing a responsive user interface, but they can be more difficult to write and debug than synchronous programs.\n",
    "\n",
    "\n",
    "\n"
   ]
  },
  {
   "cell_type": "code",
   "execution_count": null,
   "id": "2c961763-9d12-4dbb-8764-1103d90e168a",
   "metadata": {},
   "outputs": [],
   "source": []
  }
 ],
 "metadata": {
  "kernelspec": {
   "display_name": "Python 3 (ipykernel)",
   "language": "python",
   "name": "python3"
  },
  "language_info": {
   "codemirror_mode": {
    "name": "ipython",
    "version": 3
   },
   "file_extension": ".py",
   "mimetype": "text/x-python",
   "name": "python",
   "nbconvert_exporter": "python",
   "pygments_lexer": "ipython3",
   "version": "3.8.10"
  }
 },
 "nbformat": 4,
 "nbformat_minor": 5
}
