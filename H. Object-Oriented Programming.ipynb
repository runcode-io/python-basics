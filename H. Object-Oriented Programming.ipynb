{
 "cells": [
  {
   "cell_type": "markdown",
   "id": "c27dd3e2-58dd-45ec-9f33-1f3646a2fca7",
   "metadata": {},
   "source": [
    "# Object-Oriented Programming(OOP)\n",
    "\n",
    "Object-oriented programming (OOP) is a programming paradigm that is based on the concept of \"objects\", which are data structures that contain data and functions.\n",
    "\n",
    "An object-oriented paradigm is to design the program using classes and objects. The object is related to real-word entities such as book, house, pencil, etc.\n",
    "The oops concept focuses on writing the reusable code. It is a widespread technique to solve the problem by creating objects.\n",
    "\n",
    "Major principles of object-oriented programming system are given below.\n",
    "\n",
    "Class\n",
    "Object\n",
    "Method\n",
    "Inheritance\n",
    "Polymorphism\n",
    "Abstraction\n",
    "Encapsulation\n",
    "\n",
    "**Class** \n",
    "    A class is a template or blueprint for creating objects. It defines the characteristics of an object, including its attributes (data) and behaviors (functions). You can find below class example."
   ]
  },
  {
   "cell_type": "code",
   "execution_count": 1,
   "id": "d3f17b87-dc73-43ad-9aea-7ef74ca54ab5",
   "metadata": {},
   "outputs": [],
   "source": [
    "class Person:\n",
    "    def __init__(self, name, age):\n",
    "        self.name = name\n",
    "        self.age = age\n",
    "\n",
    "    def say_hello(self):\n",
    "        print(f\"Hello, my name is {self.name} and I am {self.age} years old.\")\n",
    "        \n",
    "person1 = Person(\"John\", 30)"
   ]
  },
  {
   "cell_type": "markdown",
   "id": "fb2e7a56-2c4c-4982-861b-a0238d13b1b3",
   "metadata": {},
   "source": [
    "**Object**\n",
    "    an object is a self-contained unit that consists of both data (attributes) and functions (methods). Objects are created based on a template or blueprint called a class. In above `class` example, `person1` is object of `Person` class.\n",
    "    \n",
    "**Method**\n",
    "    A method is a function that is associated with an object and is used to perform some action on that object. Methods are defined within a class and are called on an instance of the class. In above `class` example code, `say_hello()` is method of `Person` class.\n",
    "\n",
    "**Inheritance:** \n",
    "    This refers to the ability to create new classes that are derived from existing ones, and which inherit their attributes and behaviors.\n",
    "\n",
    "**Polymorphism:** \n",
    "    This refers to the ability to use the same interface for different data types.\n",
    "\n",
    "**Abstraction:** \n",
    "    This refers to the ability to focus on the essential aspects of an object and disregard the implementation details.\n",
    "\n",
    "**Encapsulation:** \n",
    "    This refers to the bundling of data and functions that operate on that data within a single unit, or object.\n"
   ]
  },
  {
   "cell_type": "markdown",
   "id": "4398f341-81fb-4e28-91f5-adb1cc060767",
   "metadata": {},
   "source": [
    "## Object-oriented vs Procedure-oriented Programming languages(OOP vs POP)\n",
    "\n",
    "Procedure-oriented programming (POP) is a programming paradigm that is based on the idea of breaking a large program down into smaller, modular pieces called procedures or functions. These procedures contain a series of steps that are executed in a specific order to achieve a particular result.\n",
    "\n",
    "Object-oriented programming (OOP) is a programming paradigm that is based on the concept of \"objects\", which are data structures that contain data and functions. In OOP, a program is organized around its data (objects) and the methods that operate on that data.\n",
    "\n",
    "Here are some key differences between procedure-oriented programming and object-oriented programming:\n",
    "\n",
    "**Structure:** In POP, a program is structured as a series of functions or procedures that are executed in a specific order. In OOP, a program is structured as a collection of objects that interact with each other through methods.\n",
    "\n",
    "**Encapsulation:** In OOP, data is encapsulated within the object, meaning that it is hidden from the outside world and can only be accessed or modified through the object's methods. In POP, data is not encapsulated and can be accessed and modified directly.\n",
    "\n",
    "**Inheritance:** In OOP, one class can inherit attributes and behaviors from a parent class, which allows for code reuse and easier maintenance. In POP, inheritance is not supported.\n",
    "\n",
    "**Polymorphism:** In OOP, polymorphism refers to the ability to use the same interface for different data types. This allows for flexibility and modularity in the code. In POP, polymorphism is not supported.\n",
    "\n",
    "Overall, OOP is generally considered to be a more powerful and flexible programming paradigm compared to POP, as it allows for code reuse, modularity, and extensibility. However, POP can still be useful in certain situations, such as when the program is relatively simple or when the focus is on performing a specific task rather than modeling real-world objects."
   ]
  }
 ],
 "metadata": {
  "kernelspec": {
   "display_name": "Python 3 (ipykernel)",
   "language": "python",
   "name": "python3"
  },
  "language_info": {
   "codemirror_mode": {
    "name": "ipython",
    "version": 3
   },
   "file_extension": ".py",
   "mimetype": "text/x-python",
   "name": "python",
   "nbconvert_exporter": "python",
   "pygments_lexer": "ipython3",
   "version": "3.8.10"
  }
 },
 "nbformat": 4,
 "nbformat_minor": 5
}
