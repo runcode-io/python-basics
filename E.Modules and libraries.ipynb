{
 "cells": [
  {
   "cell_type": "markdown",
   "id": "13bf73d4-aacb-4169-acbf-c2f36204e218",
   "metadata": {},
   "source": [
    "# Libraries & Modules\n",
    "\n",
    "\n",
    "In Python, a library is a collection of pre-compiled routines that a program can use. \n",
    "These routines, also known as modules, can be written in Python or written in other languages and then compiled for use in Python.\n",
    "Libraries can contain a variety of different types of elements, including functions, classes, variables, and more.\n",
    "\n",
    "Modules are Python code files that contain definitions and statements. A module can define functions, classes, and variables, and can also include runnable code.\n",
    "Modules can be imported into other modules or into the main module (also known as the global module).\n",
    "\n",
    "To use a library or module in a Python program, you must first import it. This is done using the import statement.\n",
    "For example, to import the math module, you would use the following statement:"
   ]
  },
  {
   "cell_type": "code",
   "execution_count": 1,
   "id": "4cf58ca0-e9fa-4532-b611-0ca1d30f9715",
   "metadata": {},
   "outputs": [],
   "source": [
    "import math"
   ]
  },
  {
   "cell_type": "markdown",
   "id": "3e9ba1dd-5fac-4318-8da6-05c43389adac",
   "metadata": {},
   "source": [
    "Once a module has been imported, you can use the elements it defines by using the dot notation. \n",
    "For example, to use the sqrt function from the math module, you would write math.sqrt(4).\n",
    "\n",
    "There are also third-party libraries and modules that you can install using a package manager such as pip.\n",
    "These libraries and modules are not part of the Python standard library, but they can be easily installed and used in your Python programs.\n",
    "\n",
    "\n",
    "In addition to modules, Python has a large number of libraries that are pre-written collections of modules that provide a wide range of functionality. Some examples of popular Python libraries include:\n",
    "\n",
    "    NumPy - A library for scientific computing with Python, including support for large, multi-dimensional arrays and matrices.\n",
    "    Pandas - A library for data manipulation and analysis, including functions for reading and writing data, filtering and aggregation, and handling missing data.\n",
    "    Matplotlib - A library for creating static, animated, and interactive visualizations.\n",
    "    Scikit-learn - A library for machine learning and data mining tasks, including support for classification, regression, clustering, and dimensionality reduction."
   ]
  },
  {
   "cell_type": "markdown",
   "id": "282f0070-bbf2-4ca1-9b72-4c7ca17e32bb",
   "metadata": {},
   "source": [
    "## Modules\n",
    "\n",
    "In Python, a module is a file that contains a collection of related functions, classes, and variables. You can use modules to organize your code, share code with others, and reuse code across multiple programs.\n",
    "\n",
    "To use a module in your code, you first need to import it. You can import a module using the import statement, like this:"
   ]
  },
  {
   "cell_type": "code",
   "execution_count": 2,
   "id": "1b3732a7-8494-481d-90eb-f7ad1ed1a00f",
   "metadata": {},
   "outputs": [
    {
     "name": "stdout",
     "output_type": "stream",
     "text": [
      "5.0\n"
     ]
    }
   ],
   "source": [
    "import math\n",
    "\n",
    "x = math.sqrt(25)\n",
    "print(x)  # 5.0"
   ]
  },
  {
   "cell_type": "markdown",
   "id": "e7c19de1-ac9e-41be-bd44-16fc615cf502",
   "metadata": {},
   "source": [
    "This imports the `math` module and allows you to use its functions, such as `sqrt()`, in your code.\n",
    "\n",
    "You can also import specific functions or variables from a module using the `from` keyword, like this:"
   ]
  },
  {
   "cell_type": "code",
   "execution_count": 3,
   "id": "178b8393-d19e-4225-943c-08ab6436a5f1",
   "metadata": {},
   "outputs": [
    {
     "name": "stdout",
     "output_type": "stream",
     "text": [
      "5.0\n"
     ]
    }
   ],
   "source": [
    "from math import sqrt\n",
    "\n",
    "x = sqrt(25)\n",
    "print(x)  # 5.0"
   ]
  },
  {
   "cell_type": "markdown",
   "id": "c0aafb2f-d5fe-4e63-8596-6de4bff1cc81",
   "metadata": {},
   "source": [
    "This imports only the `sqrt()` function from the `math` module, so you can use it directly in your code without having to use the `math`. prefix.\n",
    "\n",
    "You can also use the `as` keyword to give a module or function a different name when you import it, like this:"
   ]
  },
  {
   "cell_type": "code",
   "execution_count": 4,
   "id": "bc2e93e1-2b1e-4069-8d5b-dec0db16548e",
   "metadata": {},
   "outputs": [
    {
     "name": "stdout",
     "output_type": "stream",
     "text": [
      "5.0\n"
     ]
    }
   ],
   "source": [
    "import math as m\n",
    "\n",
    "x = m.sqrt(25)\n",
    "print(x)  # 5.0"
   ]
  },
  {
   "cell_type": "markdown",
   "id": "1139a4cb-1048-4dbb-8857-2bc52020e1d9",
   "metadata": {},
   "source": [
    "This imports the `math` module and assigns it the alias `m`, so you can use the `m`. prefix to access its functions and variables.\n",
    "\n",
    "There are many built-in modules in Python, and you can also create your own custom modules.\n"
   ]
  }
 ],
 "metadata": {
  "kernelspec": {
   "display_name": "Python 3 (ipykernel)",
   "language": "python",
   "name": "python3"
  },
  "language_info": {
   "codemirror_mode": {
    "name": "ipython",
    "version": 3
   },
   "file_extension": ".py",
   "mimetype": "text/x-python",
   "name": "python",
   "nbconvert_exporter": "python",
   "pygments_lexer": "ipython3",
   "version": "3.8.10"
  }
 },
 "nbformat": 4,
 "nbformat_minor": 5
}
