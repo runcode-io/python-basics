{
 "cells": [
  {
   "cell_type": "markdown",
   "id": "ed219da8-e388-4b1e-8061-0598c373c6d9",
   "metadata": {},
   "source": [
    "# Exception\n",
    "\n",
    "In Python, an exception is an event that occurs during the execution of a program that disrupts the normal flow of instructions. When an exception occurs, the normal flow of the program's instructions is interrupted and control is transferred to an exception handler.\n",
    "\n",
    "Exceptions are raised when something goes wrong in your code, for example:\n",
    "\n",
    "    * Division by zero\n",
    "    * Accessing an element in a list with an index that is out of bounds\n",
    "    * Trying to open a file that does not exist\n",
    "    * Trying to convert a string to a number when the string is not a valid number\n",
    "\n",
    "In Python, you can handle exceptions using a try-except block:"
   ]
  },
  {
   "cell_type": "code",
   "execution_count": null,
   "id": "7bab23bb-3671-4a23-9f64-6c4115eb2f74",
   "metadata": {},
   "outputs": [],
   "source": [
    "try:\n",
    "    # Some code here\n",
    "    # This code may cause an exception\n",
    "except ExceptionType:\n",
    "    # This code will run if an exception is raised\n"
   ]
  },
  {
   "cell_type": "markdown",
   "id": "901b6bf4-e7fa-4994-9651-8bffa9720d54",
   "metadata": {},
   "source": [
    "You can also specify multiple exception types in the except block, like this:\n",
    "\n"
   ]
  },
  {
   "cell_type": "code",
   "execution_count": null,
   "id": "2a921227-36bb-474d-9bd1-091e6cfca399",
   "metadata": {},
   "outputs": [],
   "source": [
    "try:\n",
    "    # Some code here\n",
    "    # This code may cause an exception\n",
    "except (ExceptionType1, ExceptionType2):\n",
    "    # This code will run if an exception of type ExceptionType1 or ExceptionType2 is raised\n"
   ]
  },
  {
   "cell_type": "markdown",
   "id": "36e4b581-57ba-49da-9d1f-dc5d3aa5b015",
   "metadata": {},
   "source": [
    "You can also handle exceptions without specifying a particular exception type:"
   ]
  },
  {
   "cell_type": "code",
   "execution_count": null,
   "id": "f8fe7981-08d9-4090-aa13-e255823afcff",
   "metadata": {},
   "outputs": [],
   "source": [
    "try:\n",
    "    # Some code here\n",
    "    # This code may cause an exception\n",
    "except:\n",
    "    # This code will run if any exception is raised\n"
   ]
  },
  {
   "cell_type": "markdown",
   "id": "e07ff40f-1cc5-42b5-b996-0251d08a4d49",
   "metadata": {},
   "source": [
    "You can also raise exceptions manually using the **`raise`** statement."
   ]
  },
  {
   "cell_type": "markdown",
   "id": "98d2fe25-9948-457d-8ec1-502ddb28cb22",
   "metadata": {},
   "source": [
    "The **`try`** block contains code that might throw an exception. If an exception occurs during the execution of this code, the exception is raised and the flow of control jumps to the **`except`** block. If no exception occurs, the **`except`** block is skipped and execution continues after the **`try-except`** block.\n",
    "\n",
    "The **`except`** block contains code that will be executed if an exception occurs in the **`try`** block. You can specify a particular exception type or use the **`Exception`** class to catch any exception. If you specify multiple exception types in the **`except `** block, the code in the block will be executed if any of the specified exceptions are raised.\n",
    "\n",
    "For example:"
   ]
  },
  {
   "cell_type": "code",
   "execution_count": null,
   "id": "2fafd4c1-6504-477a-8085-9af78c6cfc36",
   "metadata": {},
   "outputs": [],
   "source": [
    "try:\n",
    "    x = int(input(\"Enter a number: \"))\n",
    "    y = 1 / x\n",
    "except ZeroDivisionError:\n",
    "    print(\"You cannot divide by zero!\")\n",
    "except ValueError:\n",
    "    print(\"You must enter a valid number!\")\n"
   ]
  },
  {
   "cell_type": "markdown",
   "id": "cad04110-7fb5-40bf-9072-549bfff4d891",
   "metadata": {},
   "source": [
    "In this example, the **`try`** block tries to convert the user's input to an integer and divide 1 by the result. If the user's input is not a valid number (e.g. \"hello\"), a **`ValueError`** will be raised. If the user enters 0, a **`ZeroDivisionError`** will be raised. The **`except`** block will handle these exceptions and print an appropriate message.\n",
    "\n",
    "You can also use the **`else`** block to specify code that should be executed if no exception occurs in the **`try`** block. The **`else`** block is optional and is typically used to specify code that should be run after the **`try`** block, but only if no exception was raised.\n",
    "\n",
    "For example:"
   ]
  },
  {
   "cell_type": "code",
   "execution_count": null,
   "id": "9cd4fb68-e6b9-4fba-b800-cb1dc3fc094d",
   "metadata": {},
   "outputs": [],
   "source": [
    "try:\n",
    "    x = int(input(\"Enter a number: \"))\n",
    "    y = 1 / x\n",
    "except ZeroDivisionError:\n",
    "    print(\"You cannot divide by zero!\")\n",
    "except ValueError:\n",
    "    print(\"You must enter a valid number!\")\n",
    "else:\n",
    "    print(f\"The result is {y}\")\n"
   ]
  },
  {
   "cell_type": "markdown",
   "id": "9b1cdc57-5094-4493-8e8d-c4d200947669",
   "metadata": {},
   "source": [
    "In this example, the code in the **`else`** block will only be executed if no exception is raised in the **`try`** block.\n",
    "\n",
    "You can also use the **`finally`** block to specify code that should be executed regardless of whether an exception occurs. The **`finally`** block is optional and is typically used to specify clean-up code that should be run after the **`try`** and **`except`** blocks.\n",
    "\n",
    "For example:"
   ]
  },
  {
   "cell_type": "code",
   "execution_count": null,
   "id": "7a8479e2-a17a-4b73-8f28-a7e1a1017045",
   "metadata": {},
   "outputs": [],
   "source": [
    "try:\n",
    "    x = int(input(\"Enter a number: \"))\n",
    "    y = 1 / x\n",
    "except ZeroDivisionError:\n",
    "    print(\"You cannot divide by zero!\")\n",
    "except ValueError:\n",
    "    print(\"You must enter a valid number!\")\n",
    "else:\n",
    "    print(f\"The result is {y}\")\n",
    "finally:\n",
    "    print(\"Program finished.\")\n"
   ]
  },
  {
   "cell_type": "markdown",
   "id": "272dbd50-9aed-40ea-a5c0-ecf2a92b3111",
   "metadata": {},
   "source": [
    "In this example, the code in the **`finally`** block will be executed whether or not an exception is raised in the **`try`** block."
   ]
  },
  {
   "cell_type": "markdown",
   "id": "99589ee5-7723-4ce6-8104-00f47a5929fe",
   "metadata": {},
   "source": [
    "You can raise an exception manually using the **`raise`** statement. For example:\n",
    "\n"
   ]
  },
  {
   "cell_type": "code",
   "execution_count": null,
   "id": "61dc6938-d80f-4fd6-9ca3-33734f352763",
   "metadata": {},
   "outputs": [],
   "source": [
    "raise ValueError(\"Invalid input\")\n"
   ]
  },
  {
   "cell_type": "markdown",
   "id": "19f187d4-64a4-400f-a035-e9b78127e52d",
   "metadata": {},
   "source": [
    "This will **`raise`** a ValueError exception with the message \"Invalid input\".\n",
    "\n",
    "You can define your own custom exception classes by subclassing the **`Exception class`**. For example:\n",
    "\n"
   ]
  },
  {
   "cell_type": "code",
   "execution_count": null,
   "id": "ae1e49ae-58af-4f09-a36a-e6c21eb0d0c1",
   "metadata": {},
   "outputs": [],
   "source": [
    "class MyCustomException(Exception):\n",
    "    pass\n"
   ]
  },
  {
   "cell_type": "markdown",
   "id": "db447a5e-03b7-4c2b-8eb2-3007f954eeaf",
   "metadata": {},
   "source": [
    "You can then raise this exception like any other exception:"
   ]
  },
  {
   "cell_type": "code",
   "execution_count": null,
   "id": "8059588f-cb5c-457a-96ed-c76943d3807a",
   "metadata": {},
   "outputs": [],
   "source": [
    "raise MyCustomException(\"Something went wrong\")\n"
   ]
  },
  {
   "cell_type": "markdown",
   "id": "c4ce9378-9b8b-452a-9678-795bb2b84ae1",
   "metadata": {},
   "source": [
    "You can also include an **`except`** block that catches any exception by using the **`Exception`** class. For example:"
   ]
  },
  {
   "cell_type": "code",
   "execution_count": null,
   "id": "bc7c0dbb-976c-4779-b9d1-c6f50f44ba91",
   "metadata": {},
   "outputs": [],
   "source": [
    "class MyCustomException(Exception):\n",
    "    pass\n"
   ]
  },
  {
   "cell_type": "markdown",
   "id": "9dd09970-04cf-46cc-9477-4ee874cb7916",
   "metadata": {},
   "source": [
    "You can then raise this exception like any other exception:\n",
    "\n"
   ]
  },
  {
   "cell_type": "code",
   "execution_count": null,
   "id": "b08be5b8-648b-478d-aa66-1d6dbba1dc2d",
   "metadata": {},
   "outputs": [],
   "source": [
    "raise MyCustomException(\"Something went wrong\")\n"
   ]
  },
  {
   "cell_type": "markdown",
   "id": "311f409d-5171-4f1b-8e5e-bba14fc83138",
   "metadata": {},
   "source": [
    "You can also include an **`except`** block that catches any exception by using the **`Exception`** class. For example:"
   ]
  },
  {
   "cell_type": "code",
   "execution_count": null,
   "id": "6e8af36d-c5bb-4fd5-96ba-b61de5ced715",
   "metadata": {},
   "outputs": [],
   "source": [
    "try:\n",
    "    # Some code here\n",
    "    # This code may cause an exception\n",
    "except Exception as e:\n",
    "    print(f\"An exception occurred: {e}\")\n"
   ]
  },
  {
   "cell_type": "markdown",
   "id": "c379dfcf-6438-4540-9cd4-a9b9c7c28ec1",
   "metadata": {},
   "source": [
    "This will catch any exception that occurs in the **`try`** block and print the exception's message.\n",
    "\n",
    "If you want to handle an exception without raising it again, you can use the **`pass`** statement in the **`except`** block. For example:"
   ]
  },
  {
   "cell_type": "code",
   "execution_count": null,
   "id": "02f0c2af-e11c-42cd-ab75-fb4a0afed405",
   "metadata": {},
   "outputs": [],
   "source": [
    "try:\n",
    "    # Some code here\n",
    "    # This code may cause an exception\n",
    "except ValueError:\n",
    "    # This code will run if a ValueError is raised\n",
    "    pass\n"
   ]
  },
  {
   "cell_type": "markdown",
   "id": "d6416708-b408-44f6-8b3b-25c699a6ccdd",
   "metadata": {},
   "source": [
    "In this case, the **`ValueError`** exception will be caught and the program will continue executing without raising the exception again."
   ]
  },
  {
   "cell_type": "markdown",
   "id": "b771bde1-8cbd-4a8a-b418-82fb7cf37265",
   "metadata": {},
   "source": [
    "You can use the **`assert`** statement to check for conditions that should be true during the execution of your program. If the condition is not true, an **`AssertionError`** exception will be raised. For example:"
   ]
  },
  {
   "cell_type": "code",
   "execution_count": null,
   "id": "47727107-92a7-4289-a739-a24e25316915",
   "metadata": {},
   "outputs": [],
   "source": [
    "x = 10\n",
    "assert x > 0, \"x must be positive\"\n"
   ]
  },
  {
   "cell_type": "markdown",
   "id": "9d48c70e-ce50-47f7-a248-ddc61378049c",
   "metadata": {},
   "source": [
    "In this case, the **`assert`** statement will not raise an exception because the condition **`x > 0`** is true.\n",
    "\n",
    "You can use the **`try-finally`** block to ensure that certain code is always executed, regardless of whether an exception occurs. The **`finally`** block will be executed whether or not an exception is raised in the **`try`** block. For example:"
   ]
  },
  {
   "cell_type": "code",
   "execution_count": null,
   "id": "28579ad9-d099-48d5-b53b-30fb51c67646",
   "metadata": {},
   "outputs": [],
   "source": [
    "try:\n",
    "    # Some code here\n",
    "    # This code may cause an exception\n",
    "finally:\n",
    "    # This code will always be executed\n"
   ]
  },
  {
   "cell_type": "markdown",
   "id": "a06f76b8-08c6-41b8-9785-81e53bf732e8",
   "metadata": {},
   "source": [
    "This can be useful for clean-up tasks such as closing files or releasing resources.\n",
    "\n",
    "You can use the **`with`** statement to automatically handle the execution of a **`try-finally block`** . The **`with`** statement is used in conjunction with so-called \"context managers\" that handle the setup and clean-up of a block of code. For example:"
   ]
  },
  {
   "cell_type": "code",
   "execution_count": null,
   "id": "c50fdaa4-c2a5-4456-81c3-f114f6481389",
   "metadata": {},
   "outputs": [],
   "source": [
    "with open(\"myfile.txt\") as f:\n",
    "    # The file is automatically closed when the block is exited\n",
    "    contents = f.read()\n"
   ]
  },
  {
   "cell_type": "markdown",
   "id": "1be704e9-6ae1-40d0-acb5-6aa7488f2855",
   "metadata": {},
   "source": [
    "In this example, the **`open()`** function returns a context manager that opens the file \"myfile.txt\" and closes it when the block is exited. This is equivalent to the following code:"
   ]
  },
  {
   "cell_type": "code",
   "execution_count": null,
   "id": "2042baf8-6d3f-4174-977c-200bc11df8ef",
   "metadata": {},
   "outputs": [],
   "source": [
    "f = open(\"myfile.txt\")\n",
    "try:\n",
    "    contents = f.read()\n",
    "finally:\n",
    "    f.close()\n"
   ]
  }
 ],
 "metadata": {
  "kernelspec": {
   "display_name": "Python 3 (ipykernel)",
   "language": "python",
   "name": "python3"
  },
  "language_info": {
   "codemirror_mode": {
    "name": "ipython",
    "version": 3
   },
   "file_extension": ".py",
   "mimetype": "text/x-python",
   "name": "python",
   "nbconvert_exporter": "python",
   "pygments_lexer": "ipython3",
   "version": "3.8.10"
  }
 },
 "nbformat": 4,
 "nbformat_minor": 5
}
