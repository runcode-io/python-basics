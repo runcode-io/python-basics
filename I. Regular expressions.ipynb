{
 "cells": [
  {
   "cell_type": "markdown",
   "id": "c73f61bd-cbea-4c5e-a764-3282bb19fc4c",
   "metadata": {},
   "source": [
    "# Regular expressions"
   ]
  },
  {
   "cell_type": "markdown",
   "id": "2ccb8b26-56f2-485b-a925-316ba644e776",
   "metadata": {},
   "source": [
    "Regular expressions are a way to match patterns in strings. In Python, you can use the **`re`** module to work with regular expressions.\n",
    "\n",
    "Here's a simple example of how to use regular expressions in Python:\n",
    "\n"
   ]
  },
  {
   "cell_type": "code",
   "execution_count": null,
   "id": "79e56d7b-c88b-4bc8-b2c1-b318dfcf1f72",
   "metadata": {},
   "outputs": [
    {
     "name": "stdout",
     "output_type": "stream",
     "text": [
      "Match!\n"
     ]
    }
   ],
   "source": [
    "import re\n",
    "\n",
    "# Match the string \"cat\"\n",
    "pattern = r\"cat\"\n",
    "\n",
    "# Check if the pattern matches\n",
    "if re.match(pattern, \"cat\"):\n",
    "  print(\"Match!\")\n",
    "else:\n",
    "  print(\"Not a match!\")\n"
   ]
  },
  {
   "cell_type": "markdown",
   "id": "661bdb38-cb98-4d6d-9394-54646674821f",
   "metadata": {},
   "source": [
    "This code will output \"Match!\".\n",
    "\n",
    "You can use special characters in your regular expressions to match different things. For example, the \".\" character will match any character, so the pattern **`r\"c.t\"`** would match \"cat\", \"cot\", and \"cut\".\n",
    "\n",
    "There are many other special characters and features in regular expressions, such as character classes, repetition, and grouping."
   ]
  },
  {
   "cell_type": "code",
   "execution_count": null,
   "id": "6f08f96d-0c5e-4300-be96-8c49389a1765",
   "metadata": {},
   "outputs": [
    {
     "name": "stdout",
     "output_type": "stream",
     "text": [
      "Match!\n",
      "Match!\n",
      "Match!\n",
      "Match!\n"
     ]
    }
   ],
   "source": [
    "import re\n",
    "\n",
    "# Match a digit\n",
    "pattern = r\"\\d\"\n",
    "\n",
    "# Check if the pattern matches\n",
    "if re.match(pattern, \"1\"):\n",
    "  print(\"Match!\")\n",
    "else:\n",
    "  print(\"Not a match!\")\n",
    "\n",
    "# Match a letter\n",
    "pattern = r\"[a-zA-Z]\"\n",
    "\n",
    "# Check if the pattern matches\n",
    "if re.match(pattern, \"a\"):\n",
    "  print(\"Match!\")\n",
    "else:\n",
    "  print(\"Not a match!\")\n",
    "\n",
    "# Match a whitespace character\n",
    "pattern = r\"\\s\"\n",
    "\n",
    "# Check if the pattern matches\n",
    "if re.match(pattern, \" \"):\n",
    "  print(\"Match!\")\n",
    "else:\n",
    "  print(\"Not a match!\")\n",
    "\n",
    "# Match a word\n",
    "pattern = r\"\\w\"\n",
    "\n",
    "# Check if the pattern matches\n",
    "if re.match(pattern, \"a\"):\n",
    "  print(\"Match!\")\n",
    "else:\n",
    "  print(\"Not a match!\")\n"
   ]
  },
  {
   "cell_type": "markdown",
   "id": "f63c5ef5-1757-4432-89f4-b8432b2767dc",
   "metadata": {},
   "source": [
    "These examples should output \"Match!\" for each one.\n",
    "\n",
    "You can also use the **`search`** function to find a pattern within a string, rather than matching the entire string:"
   ]
  },
  {
   "cell_type": "code",
   "execution_count": null,
   "id": "1224ae34-6a51-4c30-a15b-ad20c40ea903",
   "metadata": {},
   "outputs": [
    {
     "name": "stdout",
     "output_type": "stream",
     "text": [
      "Match!\n"
     ]
    }
   ],
   "source": [
    "import re\n",
    "\n",
    "# Find a digit in a string\n",
    "pattern = r\"\\d\"\n",
    "\n",
    "if re.search(pattern, \"abc123def\"):\n",
    "  print(\"Match!\")\n",
    "else:\n",
    "  print(\"Not a match!\")\n"
   ]
  },
  {
   "cell_type": "markdown",
   "id": "19326c1a-0937-4514-8127-14d4590044f5",
   "metadata": {},
   "source": [
    "This example will output \"Match!\", because the pattern **`r\"\\d\"`** (a digit) is found in the string \"abc123def\".\n",
    "\n",
    "You can use the **`findall`** function to find all instances of a pattern in a string:"
   ]
  },
  {
   "cell_type": "code",
   "execution_count": null,
   "id": "80aa6ada-7d10-4856-b332-1682f63811f7",
   "metadata": {},
   "outputs": [
    {
     "name": "stdout",
     "output_type": "stream",
     "text": [
      "['1', '2', '3', '4', '5', '6']\n"
     ]
    }
   ],
   "source": [
    "import re\n",
    "\n",
    "# Find all digits in a string\n",
    "pattern = r\"\\d\"\n",
    "\n",
    "print(re.findall(pattern, \"abc123def456\"))\n"
   ]
  },
  {
   "cell_type": "markdown",
   "id": "f50c91f6-250f-4193-a6d0-4b1c9f3f49ed",
   "metadata": {},
   "source": [
    "This example will output **`[\"1\", \"2\", \"3\", \"4\", \"5\", \"6\"]`**, because there are six digits in the string \"abc123def456\"."
   ]
  },
  {
   "cell_type": "code",
   "execution_count": null,
   "id": "fe77f056-91be-4d80-9e22-2495ac2077c3",
   "metadata": {},
   "outputs": [],
   "source": []
  }
 ],
 "metadata": {
  "kernelspec": {
   "display_name": "Python 3 (ipykernel)",
   "language": "python",
   "name": "python3"
  },
  "language_info": {
   "codemirror_mode": {
    "name": "ipython",
    "version": 3
   },
   "file_extension": ".py",
   "mimetype": "text/x-python",
   "name": "python",
   "nbconvert_exporter": "python",
   "pygments_lexer": "ipython3",
   "version": "3.8.10"
  }
 },
 "nbformat": 4,
 "nbformat_minor": 5
}
