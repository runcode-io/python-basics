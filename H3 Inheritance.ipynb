{
 "cells": [
  {
   "cell_type": "markdown",
   "id": "073256b5-80f6-48ec-b8d7-3f0a21500a4d",
   "metadata": {},
   "source": [
    "# Inheritance\n",
    "\n",
    "Inheritance is a way to create a new class that is a modified version of an existing class. The new class is called the `subclass`, and the existing class is the `superclass`. The subclass inherits attributes and behaviors from the superclass, and can also have additional attributes and behaviors of its own.\n",
    "\n",
    "Here is an example of inheritance in Python:"
   ]
  },
  {
   "cell_type": "code",
   "execution_count": null,
   "id": "9ccfb239-9aac-48fe-bee4-c5c599880343",
   "metadata": {},
   "outputs": [],
   "source": [
    "class Animal:\n",
    "    def __init__(self, name, species):\n",
    "        self.name = name\n",
    "        self.species = species\n",
    "\n",
    "    def make_sound(self):\n",
    "        print(\"Some generic animal sound\")\n",
    "\n",
    "class Cat(Animal):\n",
    "    def __init__(self, name, breed, toy):\n",
    "        super().__init__(name, species=\"Cat\")  # Call superclass constructor\n",
    "        self.breed = breed\n",
    "        self.toy = toy\n",
    "\n",
    "    def play(self):\n",
    "        print(f\"{self.name} plays with {self.toy}\")\n",
    "\n",
    "cat = Cat(\"Kitty\", \"Siamese\", \"Ball\")\n",
    "print(cat.name)  # Output: \"Kitty\"\n",
    "print(cat.species)  # Output: \"Cat\"\n",
    "print(cat.breed)  # Output: \"Siamese\"\n",
    "cat.play()  # Output: \"Kitty plays with Ball\"\n",
    "cat.make_sound()  # Output: \"Some generic animal sound\""
   ]
  },
  {
   "cell_type": "markdown",
   "id": "c667afd8-b3cc-4cd5-8262-41cde6f0d8b6",
   "metadata": {},
   "source": [
    "In this example, the `Cat` class is a subclass of the `Animal` class, and it inherits the __init__() and `make_sound()` methods from the Animal class. The `Cat` class also has its own __init__() method and a new method called `play()`. When we create an instance of the `Cat` class, it has all the attributes and behaviors of both the Animal and Cat classes\n",
    "\n",
    "The `super()` function is used to call the parent class's __init__ method and initialize the inherited attributes."
   ]
  }
 ],
 "metadata": {
  "kernelspec": {
   "display_name": "Python 3 (ipykernel)",
   "language": "python",
   "name": "python3"
  },
  "language_info": {
   "codemirror_mode": {
    "name": "ipython",
    "version": 3
   },
   "file_extension": ".py",
   "mimetype": "text/x-python",
   "name": "python",
   "nbconvert_exporter": "python",
   "pygments_lexer": "ipython3",
   "version": "3.8.10"
  }
 },
 "nbformat": 4,
 "nbformat_minor": 5
}
