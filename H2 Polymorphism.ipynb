{
 "cells": [
  {
   "cell_type": "markdown",
   "id": "f3776301-eeef-40ff-befb-2d68a8f827c8",
   "metadata": {},
   "source": [
    "# Polymorphism\n",
    "\n",
    "Polymorphism is a concept in object-oriented programming that refers to the ability to use the same interface for different data types.\n",
    "\n",
    "In Python, polymorphism is achieved through inheritance and method overloading.\n",
    "\n",
    "**Method overloading:** Method overloading refers to the ability of a class to have multiple methods with the same name, but with different arguments. When a method is called, Python determines which version of the method to execute based on the number and type of arguments passed to the method.\n",
    "\n",
    "For example, consider the following class:"
   ]
  },
  {
   "cell_type": "code",
   "execution_count": null,
   "id": "a471282e-dfb3-41f9-a386-2831013d5fec",
   "metadata": {},
   "outputs": [],
   "source": [
    "class Calculator:\n",
    "    def add(self, x, y):\n",
    "        return x + y\n",
    "    \n",
    "    def add(self, x, y, z):\n",
    "        return x + y + z"
   ]
  },
  {
   "cell_type": "markdown",
   "id": "1700b010-440d-4cd1-8f5d-e87508dd95ce",
   "metadata": {},
   "source": [
    "In this example, the Calculator class has two add methods with different numbers of arguments. When you call the add method with two arguments, Python will execute the first version of the method, and when you call it with three arguments, Python will execute the second version.\n",
    "\n",
    "**Inheritance:** Inheritance is a mechanism in object-oriented programming that allows a subclass to inherit the attributes and behaviors of a superclass. This allows you to create a new class that is a modified version of an existing class, without having to rewrite the entire class.\n",
    "\n",
    "For example, consider the following classes:"
   ]
  },
  {
   "cell_type": "code",
   "execution_count": null,
   "id": "ccc32e59-ff6c-4646-b77e-e3130a98603e",
   "metadata": {},
   "outputs": [],
   "source": [
    "class Animal:\n",
    "    def speak(self):\n",
    "        print(\"Animal speaking\")\n",
    "\n",
    "class Dog(Animal):\n",
    "    def speak(self):\n",
    "        print(\"Woof!\")\n",
    "\n",
    "animal = Animal()\n",
    "animal.speak()  # Output: \"Animal speaking\"\n",
    "\n",
    "dog = Dog()\n",
    "dog.speak()  # Output: \"Woof!\""
   ]
  },
  {
   "cell_type": "markdown",
   "id": "bfd65437-d552-4fac-be0e-7dc2e89bed80",
   "metadata": {},
   "source": [
    "In this example, the speak() method is defined in the `Animal` class and overridden in the `Dog` class. When we call the `speak()` method on an instance of the `Dog` class, the version of the method defined in the `Dog` class is called, even though it has the same name as the method in the `Animal` class."
   ]
  }
 ],
 "metadata": {
  "kernelspec": {
   "display_name": "Python 3 (ipykernel)",
   "language": "python",
   "name": "python3"
  },
  "language_info": {
   "codemirror_mode": {
    "name": "ipython",
    "version": 3
   },
   "file_extension": ".py",
   "mimetype": "text/x-python",
   "name": "python",
   "nbconvert_exporter": "python",
   "pygments_lexer": "ipython3",
   "version": "3.8.10"
  }
 },
 "nbformat": 4,
 "nbformat_minor": 5
}
