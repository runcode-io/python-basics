{
 "cells": [
  {
   "cell_type": "markdown",
   "id": "83344b77-fa77-420f-9631-37e4bf6e35db",
   "metadata": {},
   "source": [
    "# Testing and debugging"
   ]
  },
  {
   "cell_type": "markdown",
   "id": "01e3dec2-2abb-47ec-9ad4-69fd1142a25f",
   "metadata": {},
   "source": [
    "Python has a built-in module called **`unittest`** that provides tools for testing. Here's a simple example of how to use it:\n",
    "\n"
   ]
  },
  {
   "cell_type": "code",
   "execution_count": null,
   "id": "a56892ba-2ece-40bb-9903-c21dfef3436a",
   "metadata": {},
   "outputs": [],
   "source": [
    "import unittest\n",
    "\n",
    "def add(x, y):\n",
    "    return x + y\n",
    "\n",
    "class TestAdd(unittest.TestCase):\n",
    "    def test_add(self):\n",
    "        self.assertEqual(add(2, 3), 5)\n",
    "        self.assertEqual(add(-2, 3), 1)\n",
    "        self.assertEqual(add(2, -3), -1)\n",
    "\n",
    "if __name__ == '__main__':\n",
    "    unittest.main()\n"
   ]
  },
  {
   "cell_type": "markdown",
   "id": "e24eaef1-3df3-41ab-9ac6-767b53d7c2b1",
   "metadata": {},
   "source": [
    "This code defines a function **`add`** and a test case **`TestAdd`** with a single test method **`test_add`**. The test method uses the **`assertEqual`** method to check that the output of the **`add`** function is as expected.\n",
    "\n",
    "To run the tests, you can run the script from the command line:"
   ]
  },
  {
   "cell_type": "markdown",
   "id": "17d29e10-a128-4945-9fde-954c556010fb",
   "metadata": {},
   "source": [
    "```sh\n",
    "python test_add.py\n",
    "```"
   ]
  },
  {
   "cell_type": "markdown",
   "id": "88584d40-58d1-4a81-aa20-0538713a0792",
   "metadata": {},
   "source": [
    "This will run the tests and print the results.\n",
    "\n",
    "There are many other features and assert methods available in the unittest module. You can read more about them in the Python documentation."
   ]
  },
  {
   "cell_type": "markdown",
   "id": "6d2b3ac4-4f0b-4600-9c86-175152841d69",
   "metadata": {},
   "source": [
    "Here are a few more things you might want to know about testing in Python:\n",
    "\n",
    "1. You can define multiple test methods in a single test case class. Each test method should test a different aspect of the code being tested.\n",
    "\n",
    "2. You can use the **`setUp`** and **`tearDown`** methods to perform setup and cleanup tasks before and after each test method is run. This can be useful if you have common setup or cleanup code that you don't want to repeat in every test method.\n",
    "\n",
    "3. You can use the **`skip`** and **`skipIf`** decorators to skip certain test methods or skip test methods under certain conditions. This can be useful if you have a test that is currently failing or if you want to temporarily disable a test while you're working on something else.\n",
    "\n",
    "4. You can use the **`assertAlmostEqual`** method to compare floating point numbers with a tolerance. This is useful because floating point arithmetic is not always exact, and you may need to allow for a small error when comparing floating point numbers.\n",
    "\n",
    "5. You can use the **`assertRaises`** method to check that a code block raises a specific exception. This can be useful for testing error handling code.\n",
    "\n",
    "6. You can use the **`unittest.mock`** module to mock objects in your tests. Mocking allows you to simulate the behavior of objects in your code without actually using the real objects. This can be useful for testing code that depends on external resources, such as databases or APIs.\n",
    "\n",
    "Here are examples of these features:\n",
    "\n",
    "1. Multiple test methods:"
   ]
  },
  {
   "cell_type": "code",
   "execution_count": null,
   "id": "5792be92-5ec2-4157-b1b0-e827876115b8",
   "metadata": {},
   "outputs": [],
   "source": [
    "import unittest\n",
    "\n",
    "def add(x, y):\n",
    "    return x + y\n",
    "\n",
    "def subtract(x, y):\n",
    "    return x - y\n",
    "\n",
    "class TestMath(unittest.TestCase):\n",
    "    def test_add(self):\n",
    "        self.assertEqual(add(2, 3), 5)\n",
    "\n",
    "    def test_subtract(self):\n",
    "        self.assertEqual(subtract(2, 3), -1)\n",
    "\n",
    "if __name__ == '__main__':\n",
    "    unittest.main()\n"
   ]
  },
  {
   "cell_type": "markdown",
   "id": "fa78d7da-4916-44c3-bbe4-cf184b808e40",
   "metadata": {},
   "source": [
    "2. **`setUp`** and **`tearDown`** methods:"
   ]
  },
  {
   "cell_type": "code",
   "execution_count": null,
   "id": "3d048782-4f34-4b7a-b67a-c7ff5b0cb7f5",
   "metadata": {},
   "outputs": [],
   "source": [
    "import unittest\n",
    "\n",
    "def add(x, y):\n",
    "    return x + y\n",
    "\n",
    "class TestAdd(unittest.TestCase):\n",
    "    def setUp(self):\n",
    "        print('Setting up test')\n",
    "        self.x = 2\n",
    "        self.y = 3\n",
    "\n",
    "    def tearDown(self):\n",
    "        print('Cleaning up')\n",
    "        del self.x\n",
    "        del self.y\n",
    "\n",
    "    def test_add(self):\n",
    "        self.assertEqual(add(self.x, self.y), 5)\n",
    "\n",
    "if __name__ == '__main__':\n",
    "    unittest.main()\n"
   ]
  },
  {
   "cell_type": "markdown",
   "id": "1a8aea95-6ade-4670-b49d-ee0660e88c8c",
   "metadata": {},
   "source": [
    "3. **`skip`** and **`skipIf`** decorators:"
   ]
  },
  {
   "cell_type": "code",
   "execution_count": null,
   "id": "fc49d837-bf43-4be7-a5cc-2aa5b8456e12",
   "metadata": {},
   "outputs": [],
   "source": [
    "import unittest\n",
    "\n",
    "def add(x, y):\n",
    "    return x + y\n",
    "\n",
    "class TestAdd(unittest.TestCase):\n",
    "    @unittest.skip('Temporarily disable test')\n",
    "    def test_add(self):\n",
    "        self.assertEqual(add(2, 3), 5)\n",
    "\n",
    "    @unittest.skipIf(True, 'Skip test if condition is true')\n",
    "    def test_add_2(self):\n",
    "        self.assertEqual(add(2, 3), 5)\n",
    "\n",
    "if __name__ == '__main__':\n",
    "    unittest.main()\n"
   ]
  },
  {
   "cell_type": "markdown",
   "id": "b85e3ff5-c271-4ad5-bcb0-0cba85d8781f",
   "metadata": {},
   "source": [
    "4. **`assertAlmostEqual`**:"
   ]
  },
  {
   "cell_type": "code",
   "execution_count": null,
   "id": "01609c33-cd24-4f27-b3a9-bb06cec87088",
   "metadata": {},
   "outputs": [],
   "source": [
    "import unittest\n",
    "\n",
    "def compute_pi():\n",
    "    # Compute an approximation of pi\n",
    "    return 3.14\n",
    "\n",
    "class TestComputePi(unittest.TestCase):\n",
    "    def test_compute_pi(self):\n",
    "        self.assertAlmostEqual(compute_pi(), 3.14, places=2)\n",
    "\n",
    "if __name__ == '__main__':\n",
    "    unittest.main()\n"
   ]
  },
  {
   "cell_type": "markdown",
   "id": "3bba9870-4d39-466e-a767-baec676aa8f5",
   "metadata": {},
   "source": [
    "5. **`assertRaises`**:"
   ]
  },
  {
   "cell_type": "code",
   "execution_count": null,
   "id": "4e7f93dd-42b2-4350-ba73-712c1fe1ee0a",
   "metadata": {},
   "outputs": [],
   "source": [
    "import unittest\n",
    "\n",
    "def divide(x, y):\n",
    "    if y == 0:\n",
    "        raise ZeroDivisionError('Cannot divide by zero')\n",
    "    return x / y\n",
    "\n",
    "class TestDivide(unittest.TestCase):\n",
    "    def test_divide(self):\n",
    "        self.assertRaises(ZeroDivisionError, divide, 2, 0)\n",
    "\n",
    "if __name__ == '__main__':\n",
    "    unittest.main()\n"
   ]
  },
  {
   "cell_type": "markdown",
   "id": "43e62e11-aaff-416d-b162-19e4e5588e87",
   "metadata": {},
   "source": [
    "6. **`unittest.mock`**:"
   ]
  },
  {
   "cell_type": "code",
   "execution_count": null,
   "id": "48021065-c00d-47c7-a8f0-b9ba533a1c9d",
   "metadata": {},
   "outputs": [],
   "source": [
    "import unittest\n",
    "from unittest.mock import patch\n",
    "\n",
    "def get_data_from_server():\n",
    "    # Pretend to get data\n"
   ]
  },
  {
   "cell_type": "markdown",
   "id": "0fad9851-62f0-41a1-b689-2246472d433a",
   "metadata": {},
   "source": [
    "# Debugging\n",
    "\n",
    "Here are a few tips for debugging Python code:\n",
    "\n",
    "1. Use the **`print()`** function to print the values of variables at different points in your code. This can help you understand what's going on and where the problem might be.\n",
    "\n",
    "2. Use a debugger to step through your code line by line. Python has a built-in debugger called **`pdb`**. You can use it by adding the following line of code at the point where you want to start debugging:"
   ]
  },
  {
   "cell_type": "code",
   "execution_count": null,
   "id": "cee8865f-ac21-4cd5-b42a-9697f2bed030",
   "metadata": {},
   "outputs": [],
   "source": [
    "import pdb; pdb.set_trace()"
   ]
  },
  {
   "cell_type": "markdown",
   "id": "e39efa92-8d7c-49d1-83d1-5312ad6d4169",
   "metadata": {},
   "source": [
    "When you run the code, it will stop at this point and give you a prompt where you can enter debugger commands.\n",
    "\n",
    "3. Use an exception handler to catch and examine exceptions as they occur. You can do this using a **`try`**-**`except`** block:"
   ]
  },
  {
   "cell_type": "code",
   "execution_count": null,
   "id": "4d53407a-9ca9-4202-ae42-e33e6eaff04c",
   "metadata": {},
   "outputs": [],
   "source": [
    "try:\n",
    "    # Some code here\n",
    "except Exception as e:\n",
    "    # Exception handling code here\n",
    "    print(e)\n"
   ]
  },
  {
   "cell_type": "markdown",
   "id": "c14d0aee-9344-47a9-9654-d931931b20bf",
   "metadata": {},
   "source": [
    "4. Use a linter to check your code for syntax errors and other issues. A linter is a tool that checks your code for style and correctness. One popular linter for Python is **`Pylint`**."
   ]
  },
  {
   "cell_type": "code",
   "execution_count": null,
   "id": "67dc1253-f83d-409f-9414-96ddc836526a",
   "metadata": {},
   "outputs": [],
   "source": []
  }
 ],
 "metadata": {
  "kernelspec": {
   "display_name": "Python 3 (ipykernel)",
   "language": "python",
   "name": "python3"
  },
  "language_info": {
   "codemirror_mode": {
    "name": "ipython",
    "version": 3
   },
   "file_extension": ".py",
   "mimetype": "text/x-python",
   "name": "python",
   "nbconvert_exporter": "python",
   "pygments_lexer": "ipython3",
   "version": "3.8.10"
  }
 },
 "nbformat": 4,
 "nbformat_minor": 5
}
