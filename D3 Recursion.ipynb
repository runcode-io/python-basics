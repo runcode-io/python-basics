{
 "cells": [
  {
   "cell_type": "markdown",
   "id": "d48e7579-292a-4bc9-963a-f4b9fa2f95df",
   "metadata": {},
   "source": [
    "# Recursion\n",
    "\n",
    "In Python, a function can call itself recursively, which means that it can execute a sequence of statements that includes calling itself. This is called a recursive function.\n",
    "\n",
    "Here's an example of a recursive function that calculates the factorial of a number:\n"
   ]
  },
  {
   "cell_type": "code",
   "execution_count": 1,
   "id": "89217b09-adfb-4af3-9372-64479e6cc647",
   "metadata": {},
   "outputs": [
    {
     "name": "stdout",
     "output_type": "stream",
     "text": [
      "120\n"
     ]
    }
   ],
   "source": [
    "def factorial(n):\n",
    "    if n == 1:\n",
    "        return 1\n",
    "    else:\n",
    "        return n * factorial(n-1)\n",
    "\n",
    "print(factorial(5))  # 120\n"
   ]
  },
  {
   "cell_type": "markdown",
   "id": "3675103a-8011-4384-8505-b116a93939d4",
   "metadata": {},
   "source": [
    "The function calls itself with a smaller value of n until it reaches the base case (when n is 1). At that point, it stops calling itself and returns the result.\n",
    "\n",
    "Here's how the function works for the input 5:\n",
    "\n",
    "1. The function is called with n set to 5.\n",
    "2. The function calls itself with n set to 4.\n",
    "3. The function calls itself with n set to 3.\n",
    "4. The function calls itself with n set to 2.\n",
    "5. The function calls itself with n set to 1.\n",
    "6. The function returns 1 (base case).\n",
    "7. The function returns 2 * 1 = 2 (n is 2).\n",
    "8. The function returns 3 * 2 = 6 (n is 3).\n",
    "9. The function returns 4 * 6 = 24 (n is 4).\n",
    "10. The function returns 5 * 24 = 120 (n is 5).\n",
    "\n",
    "Recursive functions can be very useful, but they can also be inefficient because they require the function to be called multiple times. \n",
    "In some cases, it might be more efficient to use an iterative solution (such as a loop) instead of a recursive solution."
   ]
  }
 ],
 "metadata": {
  "kernelspec": {
   "display_name": "Python 3 (ipykernel)",
   "language": "python",
   "name": "python3"
  },
  "language_info": {
   "codemirror_mode": {
    "name": "ipython",
    "version": 3
   },
   "file_extension": ".py",
   "mimetype": "text/x-python",
   "name": "python",
   "nbconvert_exporter": "python",
   "pygments_lexer": "ipython3",
   "version": "3.8.10"
  }
 },
 "nbformat": 4,
 "nbformat_minor": 5
}
