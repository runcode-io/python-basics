{
 "cells": [
  {
   "cell_type": "markdown",
   "id": "854ee1fb-d79a-4513-867a-f85d7bc2ac65",
   "metadata": {},
   "source": [
    "# File handling\n",
    "\n",
    "\n",
    "In Python, you can work with files using the built-in open function. This function takes two arguments: the name of the file, and the mode in which to open the file. The mode can be `r` for reading, `w` for writing, or `a` for appending.\n",
    "\n",
    "Here is an example of how to open a file for reading:"
   ]
  },
  {
   "cell_type": "code",
   "execution_count": null,
   "id": "d779f1a6-c566-4ea0-98f3-f460d27c17c9",
   "metadata": {},
   "outputs": [],
   "source": [
    "with open('file.txt', 'r') as f:\n",
    "    contents = f.read()\n",
    "    print(contents)"
   ]
  },
  {
   "cell_type": "markdown",
   "id": "414a440b-99cc-4dac-bbb0-c3dfca3ab7c2",
   "metadata": {},
   "source": [
    "This will open the file file.txt in read mode, and then read the contents of the file and print them to the console. The file will be automatically closed when we exit the with block.\n",
    "\n",
    "To write to a file, you can use the following code:"
   ]
  },
  {
   "cell_type": "code",
   "execution_count": null,
   "id": "996d3c02-1f45-4a29-9ecb-e4a85be0d797",
   "metadata": {},
   "outputs": [],
   "source": [
    "with open('file.txt', 'w') as f:\n",
    "    f.write('Hello, world!')"
   ]
  },
  {
   "cell_type": "markdown",
   "id": "44013895-99aa-4ce4-a136-17cf4f010686",
   "metadata": {},
   "source": [
    "This will open the file file.txt in write mode, and then write the text \"Hello, world!\" to the file. If the file doesn't exist, it will be created. If the file already exists, its contents will be overwritten.\n",
    "\n",
    "To append to a file, you can use the following code:"
   ]
  },
  {
   "cell_type": "code",
   "execution_count": null,
   "id": "bf422a17-1a3c-4a77-9aa0-f1e8a2670cb7",
   "metadata": {},
   "outputs": [],
   "source": [
    "with open('file.txt', 'a') as f:\n",
    "    f.write('Hello, world!')"
   ]
  },
  {
   "cell_type": "markdown",
   "id": "6f817b15-65cd-4020-8403-6659197bb0b0",
   "metadata": {},
   "source": [
    "This will open the file file.txt in append mode, and then add the text \"Hello, world!\" to the end of the file. If the file doesn't exist, it will be created.\n",
    "\n",
    "In addition to reading and writing, you can also perform other operations on files, such as seeking to a specific position in the file or truncating the file \n",
    "to a certain length."
   ]
  }
 ],
 "metadata": {
  "kernelspec": {
   "display_name": "Python 3 (ipykernel)",
   "language": "python",
   "name": "python3"
  },
  "language_info": {
   "codemirror_mode": {
    "name": "ipython",
    "version": 3
   },
   "file_extension": ".py",
   "mimetype": "text/x-python",
   "name": "python",
   "nbconvert_exporter": "python",
   "pygments_lexer": "ipython3",
   "version": "3.8.10"
  }
 },
 "nbformat": 4,
 "nbformat_minor": 5
}
