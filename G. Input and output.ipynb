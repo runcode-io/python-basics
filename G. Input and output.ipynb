{
 "cells": [
  {
   "cell_type": "markdown",
   "id": "8d85634b-3d03-4889-a5b9-67b95c30d143",
   "metadata": {},
   "source": [
    "# Input & Output\n",
    "\n",
    "In Python, you can use the **`input()`** function to get input from the user. For example:"
   ]
  },
  {
   "cell_type": "code",
   "execution_count": 1,
   "id": "409d0b77-3c45-47a5-a714-d5df3b538adb",
   "metadata": {},
   "outputs": [
    {
     "name": "stdin",
     "output_type": "stream",
     "text": [
      "Enter your name:  ray\n"
     ]
    },
    {
     "name": "stdout",
     "output_type": "stream",
     "text": [
      "Hello, ray\n"
     ]
    }
   ],
   "source": [
    "name = input(\"Enter your name: \")\n",
    "print(\"Hello, \" + name)\n"
   ]
  },
  {
   "cell_type": "markdown",
   "id": "89088ccd-55e8-493c-aef7-a17eb4b8db8c",
   "metadata": {},
   "source": [
    "This will prompt the user to enter their name, and then it will print a greeting using the name that they entered.\n",
    "\n",
    "The **`input()`** function always returns a string, so you may need to convert the user's input to another data type if necessary. For example:"
   ]
  },
  {
   "cell_type": "code",
   "execution_count": 2,
   "id": "29e3c4e0-dbf0-4d31-915b-57cea3ac8fae",
   "metadata": {},
   "outputs": [
    {
     "name": "stdin",
     "output_type": "stream",
     "text": [
      "Enter your age:  30\n"
     ]
    }
   ],
   "source": [
    "age = input(\"Enter your age: \")\n",
    "age = int(age)  # convert the string to an integer"
   ]
  },
  {
   "cell_type": "markdown",
   "id": "9c70f2d7-8bd1-42a7-9fda-aca04e5cd05e",
   "metadata": {},
   "source": [
    "To output data in Python, you can use the **`print()`** function. For example:"
   ]
  },
  {
   "cell_type": "code",
   "execution_count": 3,
   "id": "eed652e7-6e51-41aa-9d0e-39062ca14f34",
   "metadata": {},
   "outputs": [
    {
     "name": "stdout",
     "output_type": "stream",
     "text": [
      "Hello, World!\n"
     ]
    }
   ],
   "source": [
    "print(\"Hello, World!\")\n"
   ]
  },
  {
   "cell_type": "markdown",
   "id": "a845b62e-4dd5-48f8-85fa-83309f8caa5f",
   "metadata": {},
   "source": [
    "You can also use the **`format()`** method to include variables in your output string. For example:"
   ]
  },
  {
   "cell_type": "code",
   "execution_count": 4,
   "id": "49d68117-b455-46e4-b1a1-98f14d34f54b",
   "metadata": {},
   "outputs": [
    {
     "name": "stdout",
     "output_type": "stream",
     "text": [
      "Alice is 30 years old.\n"
     ]
    }
   ],
   "source": [
    "name = \"Alice\"\n",
    "age = 30\n",
    "print(\"{} is {} years old.\".format(name, age))\n"
   ]
  },
  {
   "cell_type": "markdown",
   "id": "f2044864-2ba1-48ce-9de2-5785c2e24936",
   "metadata": {},
   "source": [
    "This would output the string \"Alice is 30 years old.\""
   ]
  }
 ],
 "metadata": {
  "kernelspec": {
   "display_name": "Python 3 (ipykernel)",
   "language": "python",
   "name": "python3"
  },
  "language_info": {
   "codemirror_mode": {
    "name": "ipython",
    "version": 3
   },
   "file_extension": ".py",
   "mimetype": "text/x-python",
   "name": "python",
   "nbconvert_exporter": "python",
   "pygments_lexer": "ipython3",
   "version": "3.8.10"
  }
 },
 "nbformat": 4,
 "nbformat_minor": 5
}
