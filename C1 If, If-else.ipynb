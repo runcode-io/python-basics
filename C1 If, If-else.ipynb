{
 "cells": [
  {
   "cell_type": "markdown",
   "id": "9931839c-a74a-4220-900a-91b3a8e71c0d",
   "metadata": {},
   "source": [
    "Control structures are used to control the flow of execution of a program. In Python, there are several types of control structures that you can use:\n",
    "\n",
    "1. **if statements:** An **`if`** statement is used to execute a block of code only if a certain condition is true. For example:"
   ]
  },
  {
   "cell_type": "code",
   "execution_count": null,
   "id": "bd4211d0-0867-456a-8807-d29c1060ed84",
   "metadata": {},
   "outputs": [],
   "source": [
    "x = 10\n",
    "if x > 0:\n",
    "    print(\"x is positive\")\n"
   ]
  },
  {
   "cell_type": "markdown",
   "id": "d573a19b-7c8d-47f8-8793-4fbe1e978ea3",
   "metadata": {},
   "source": [
    "You can also use an **`if`** statement in combination with an **`else`** statement to specify a block of code to be executed if the condition is false. For example:"
   ]
  },
  {
   "cell_type": "code",
   "execution_count": null,
   "id": "57b06e9b-3e27-4378-a039-51ec7de8fd0c",
   "metadata": {},
   "outputs": [],
   "source": [
    "x = 10\n",
    "if x > 0:\n",
    "    print(\"x is positive\")\n",
    "else:\n",
    "    print(\"x is not positive\")\n"
   ]
  },
  {
   "cell_type": "markdown",
   "id": "e00efae9-2687-4185-bd76-c144a0c97214",
   "metadata": {},
   "source": [
    "You can also use an **`if`** statement in combination with an **`elif`** (short for \"else if\") clause to specify additional conditions to be checked. For example:"
   ]
  },
  {
   "cell_type": "code",
   "execution_count": null,
   "id": "52903f27-4cd0-4aa9-a519-4cf4cf5b82f4",
   "metadata": {},
   "outputs": [],
   "source": [
    "x = 10\n",
    "if x > 0:\n",
    "    print(\"x is positive\")\n",
    "elif x == 0:\n",
    "    print(\"x is zero\")\n",
    "else:\n",
    "    print(\"x is negative\")\n"
   ]
  },
  {
   "cell_type": "markdown",
   "id": "e9f8627b-6247-48ac-ac5e-a1bcd5f795a8",
   "metadata": {},
   "source": [
    "2. **for loops:** A **`for`** loop is used to iterate over a sequence of items. For example:"
   ]
  },
  {
   "cell_type": "code",
   "execution_count": null,
   "id": "5764584c-4ae5-47a2-9acf-424f036861a7",
   "metadata": {},
   "outputs": [],
   "source": [
    "for i in range(5):\n",
    "    print(i)\n"
   ]
  },
  {
   "cell_type": "markdown",
   "id": "135c69eb-d5aa-4e5d-b7c6-759a71d20b88",
   "metadata": {},
   "source": [
    "This will output the numbers 0 through 4. You can also use a **`for`** loop to iterate over a list of items:"
   ]
  },
  {
   "cell_type": "code",
   "execution_count": null,
   "id": "71188647-5cf2-4b24-8c37-dbf5bd843749",
   "metadata": {},
   "outputs": [],
   "source": [
    "for item in [1, 2, 3]:\n",
    "    print(item)\n"
   ]
  },
  {
   "cell_type": "markdown",
   "id": "00e2a7ca-ba98-4e3d-9046-378846be175d",
   "metadata": {},
   "source": [
    "This will output the numbers 1, 2, and 3.\n",
    "\n",
    "3. **while loops:** A **`while`** loop is used to repeat a block of code as long as a certain condition is true. For example:"
   ]
  },
  {
   "cell_type": "code",
   "execution_count": null,
   "id": "619619f1-42ca-4d57-903e-7ffa09304f9e",
   "metadata": {},
   "outputs": [],
   "source": [
    "x = 0\n",
    "while x < 5:\n",
    "    print(x)\n",
    "    x += 1\n"
   ]
  },
  {
   "cell_type": "markdown",
   "id": "e3388a44-3184-43a7-b78a-7780942ca3eb",
   "metadata": {},
   "source": [
    "This will output the numbers 0 through 4.\n",
    "\n",
    "These are just a few examples of control structures in Python. There are many other control structures that you can use, such as **`break`** and **`continue`**, which allow you to interrupt and resume the execution of a loop, respectively."
   ]
  },
  {
   "cell_type": "code",
   "execution_count": null,
   "id": "f4ec6293-c1bc-450c-9c12-c0686c8184f6",
   "metadata": {},
   "outputs": [],
   "source": []
  }
 ],
 "metadata": {
  "kernelspec": {
   "display_name": "Python 3 (ipykernel)",
   "language": "python",
   "name": "python3"
  },
  "language_info": {
   "codemirror_mode": {
    "name": "ipython",
    "version": 3
   },
   "file_extension": ".py",
   "mimetype": "text/x-python",
   "name": "python",
   "nbconvert_exporter": "python",
   "pygments_lexer": "ipython3",
   "version": "3.8.10"
  }
 },
 "nbformat": 4,
 "nbformat_minor": 5
}
