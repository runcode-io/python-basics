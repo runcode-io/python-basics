{
 "cells": [
  {
   "cell_type": "markdown",
   "id": "127eff22-65d8-4386-9c95-0bb8714f01d2",
   "metadata": {},
   "source": [
    "## Arbitrary Arguments, *args\n",
    "If you do not know how many arguments that will be passed into your function, add a * before the parameter name in the function definition.\n",
    "\n",
    "This way the function will receive a `tuple` of arguments, and can access the items accordingly:"
   ]
  },
  {
   "cell_type": "code",
   "execution_count": 1,
   "id": "cb30dcf9-2cee-4c28-b0fa-033ecd53af9f",
   "metadata": {},
   "outputs": [
    {
     "name": "stdout",
     "output_type": "stream",
     "text": [
      "The youngest child is Sujith\n"
     ]
    }
   ],
   "source": [
    "def my_function(*kids):\n",
    "  print(\"The youngest child is \" + kids[2])\n",
    "\n",
    "my_function(\"Anil\", \"Ravi\", \"Sujith\")"
   ]
  },
  {
   "cell_type": "markdown",
   "id": "929c4007-36b6-4ec3-9a22-5962021d4e56",
   "metadata": {},
   "source": [
    "Arbitrary Arguments are often shortened to `*args` in Python documentations.\n",
    "\n",
    "\n",
    "## Arbitrary Keyword Arguments, **kwargs\n",
    "\n",
    "If you do not know how many keyword arguments that will be passed into your function, add two asterisk: ** before the parameter name in the function definition.\n",
    "\n",
    "This way the function will receive a `dictionary` of arguments, and can access the items accordingly:"
   ]
  },
  {
   "cell_type": "code",
   "execution_count": 2,
   "id": "2f036553-8ba1-43f7-9004-d2c4d5066a80",
   "metadata": {},
   "outputs": [
    {
     "name": "stdout",
     "output_type": "stream",
     "text": [
      "His last name is jain\n"
     ]
    }
   ],
   "source": [
    "def get_name(**name):\n",
    "  print(\"His last name is \" + name[\"lname\"])\n",
    "\n",
    "get_name(fname = \"Ravi\", lname = \"jain\")"
   ]
  },
  {
   "cell_type": "markdown",
   "id": "0c600080-bba3-44f1-b30f-e6acffd34494",
   "metadata": {},
   "source": [
    "Arbitrary Kword Arguments are often shortened to `**kwargs` in Python documentations."
   ]
  }
 ],
 "metadata": {
  "kernelspec": {
   "display_name": "Python 3 (ipykernel)",
   "language": "python",
   "name": "python3"
  },
  "language_info": {
   "codemirror_mode": {
    "name": "ipython",
    "version": 3
   },
   "file_extension": ".py",
   "mimetype": "text/x-python",
   "name": "python",
   "nbconvert_exporter": "python",
   "pygments_lexer": "ipython3",
   "version": "3.8.10"
  }
 },
 "nbformat": 4,
 "nbformat_minor": 5
}
